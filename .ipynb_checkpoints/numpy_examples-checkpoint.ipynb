{
 "cells": [
  {
   "cell_type": "markdown",
   "metadata": {},
   "source": [
    "Hello，我是宁萌，我制作了[【Python】NumPy入门教程](https://www.bilibili.com/video/BV1yq4y137w7/)，以下为视频示例中的代码，结合视频练习代码，效果更佳哦！欢迎多多交流呀！\n",
    "\n",
    "联系我：B站：[宁萌Julie](https://space.bilibili.com/40990299), email:Juliecodestack@126.com。"
   ]
  },
  {
   "cell_type": "code",
   "execution_count": 1,
   "metadata": {},
   "outputs": [],
   "source": [
    "import numpy as np\n",
    "import matplotlib.pyplot as plt"
   ]
  },
  {
   "cell_type": "markdown",
   "metadata": {},
   "source": [
    "## 一、通过简单例子认识NumPy"
   ]
  },
  {
   "cell_type": "markdown",
   "metadata": {},
   "source": [
    "### 1.shape,ndim,dtype,size"
   ]
  },
  {
   "cell_type": "code",
   "execution_count": 2,
   "metadata": {},
   "outputs": [
    {
     "data": {
      "text/plain": [
       "array([1, 2, 3])"
      ]
     },
     "execution_count": 2,
     "metadata": {},
     "output_type": "execute_result"
    }
   ],
   "source": [
    "nums1=np.array([1,2,3])\n",
    "nums1"
   ]
  },
  {
   "cell_type": "code",
   "execution_count": 3,
   "metadata": {},
   "outputs": [
    {
     "name": "stdout",
     "output_type": "stream",
     "text": [
      "(3,)\n"
     ]
    }
   ],
   "source": [
    "#数组的大小，每一维上有多少元素\n",
    "print(nums1.shape)"
   ]
  },
  {
   "cell_type": "code",
   "execution_count": 4,
   "metadata": {},
   "outputs": [
    {
     "name": "stdout",
     "output_type": "stream",
     "text": [
      "1\n"
     ]
    }
   ],
   "source": [
    "#数组的维度\n",
    "print(nums1.ndim)"
   ]
  },
  {
   "cell_type": "code",
   "execution_count": 5,
   "metadata": {},
   "outputs": [
    {
     "data": {
      "text/plain": [
       "1"
      ]
     },
     "execution_count": 5,
     "metadata": {},
     "output_type": "execute_result"
    }
   ],
   "source": [
    "len(nums1.shape)"
   ]
  },
  {
   "cell_type": "code",
   "execution_count": 6,
   "metadata": {},
   "outputs": [
    {
     "name": "stdout",
     "output_type": "stream",
     "text": [
      "int32\n"
     ]
    }
   ],
   "source": [
    "#数组元素的数据类型\n",
    "print(nums1.dtype)"
   ]
  },
  {
   "cell_type": "code",
   "execution_count": 7,
   "metadata": {},
   "outputs": [
    {
     "name": "stdout",
     "output_type": "stream",
     "text": [
      "3\n"
     ]
    }
   ],
   "source": [
    "#数组元素个数\n",
    "print(nums1.size)"
   ]
  },
  {
   "cell_type": "code",
   "execution_count": 8,
   "metadata": {},
   "outputs": [
    {
     "data": {
      "text/plain": [
       "array([[[ 0,  1,  2,  3],\n",
       "        [ 4,  5,  6,  7]],\n",
       "\n",
       "       [[ 8,  9, 10, 11],\n",
       "        [12, 13, 14, 15]],\n",
       "\n",
       "       [[16, 17, 18, 19],\n",
       "        [20, 21, 22, 23]]])"
      ]
     },
     "execution_count": 8,
     "metadata": {},
     "output_type": "execute_result"
    }
   ],
   "source": [
    "nums2=np.array([[[ 0,  1,  2,  3],[ 4,  5,  6,  7]],[[ 8,  9, 10, 11],[12, 13, 14, 15]],\n",
    "                 [[16, 17, 18, 19],[20, 21, 22, 23]]])\n",
    "nums2"
   ]
  },
  {
   "cell_type": "code",
   "execution_count": 9,
   "metadata": {},
   "outputs": [
    {
     "name": "stdout",
     "output_type": "stream",
     "text": [
      "(3, 2, 4)\n",
      "3\n",
      "int32\n",
      "24\n"
     ]
    }
   ],
   "source": [
    "print(nums2.shape)\n",
    "print(nums2.ndim)\n",
    "print(nums2.dtype)\n",
    "print(nums2.size)"
   ]
  },
  {
   "cell_type": "code",
   "execution_count": 10,
   "metadata": {},
   "outputs": [
    {
     "data": {
      "text/plain": [
       "array([[[ 0.,  1.,  2.,  3.],\n",
       "        [ 4.,  5.,  6.,  7.]],\n",
       "\n",
       "       [[ 8.,  9., 10., 11.],\n",
       "        [12., 13., 14., 15.]],\n",
       "\n",
       "       [[16., 17., 18., 19.],\n",
       "        [20., 21., 22., 23.]]])"
      ]
     },
     "execution_count": 10,
     "metadata": {},
     "output_type": "execute_result"
    }
   ],
   "source": [
    "nums2_n=np.array([[[ 0,  1,  2,  3],[ 4,  5,  6,  7]],[[ 8,  9, 10, 11],[12, 13, 14, 15]],\n",
    "                 [[16, 17, 18, 19],[20, 21, 22, 23]]],dtype=float)\n",
    "nums2_n"
   ]
  },
  {
   "cell_type": "code",
   "execution_count": 11,
   "metadata": {},
   "outputs": [
    {
     "data": {
      "text/plain": [
       "dtype('float64')"
      ]
     },
     "execution_count": 11,
     "metadata": {},
     "output_type": "execute_result"
    }
   ],
   "source": [
    "nums2_n.dtype"
   ]
  },
  {
   "cell_type": "code",
   "execution_count": 12,
   "metadata": {},
   "outputs": [
    {
     "data": {
      "text/plain": [
       "array(['apple', 'banana', 'cherry', 'apple', 'cherry'], dtype='<U6')"
      ]
     },
     "execution_count": 12,
     "metadata": {},
     "output_type": "execute_result"
    }
   ],
   "source": [
    "fruit=np.array(['apple','banana','cherry','apple','cherry'])\n",
    "fruit"
   ]
  },
  {
   "cell_type": "code",
   "execution_count": 13,
   "metadata": {},
   "outputs": [
    {
     "data": {
      "text/plain": [
       "array([ True, False, False,  True, False])"
      ]
     },
     "execution_count": 13,
     "metadata": {},
     "output_type": "execute_result"
    }
   ],
   "source": [
    "fruit=='apple'"
   ]
  },
  {
   "cell_type": "markdown",
   "metadata": {},
   "source": [
    "### 2.NumPy的向量化运算"
   ]
  },
  {
   "cell_type": "code",
   "execution_count": 14,
   "metadata": {},
   "outputs": [
    {
     "name": "stdout",
     "output_type": "stream",
     "text": [
      "nums3:\n",
      " [[1 2 3]\n",
      " [4 5 6]]\n",
      "nums4:\n",
      " [[3 5 6]\n",
      " [1 7 8]]\n",
      "nums4+nums3:\n",
      " [[ 4  7  9]\n",
      " [ 5 12 14]]\n"
     ]
    }
   ],
   "source": [
    "#两个形状（shape）相同的数组，可以进行向量化运算（元素与元素）。\n",
    "nums3=np.array([[1,2,3],[4,5,6]])\n",
    "print('nums3:\\n',nums3)\n",
    "nums4=np.array([[3,5,6],[1,7,8]])\n",
    "print('nums4:\\n',nums4)\n",
    "print('nums4+nums3:\\n',nums4+nums3)"
   ]
  },
  {
   "cell_type": "code",
   "execution_count": 15,
   "metadata": {},
   "outputs": [
    {
     "name": "stdout",
     "output_type": "stream",
     "text": [
      "[[ 2  3  3]\n",
      " [-3  2  2]]\n",
      "[[ 3 10 18]\n",
      " [ 4 35 48]]\n",
      "[[3.         2.5        2.        ]\n",
      " [0.25       1.4        1.33333333]]\n"
     ]
    }
   ],
   "source": [
    "print(nums4-nums3)\n",
    "print(nums4*nums3)\n",
    "print(nums4/nums3)"
   ]
  },
  {
   "cell_type": "markdown",
   "metadata": {},
   "source": [
    "广播机制：运算时会把标量（数字）和低维数组扩充至匹配的高维。\n",
    "\n",
    "这里先简单看两个例子，后面还会详细介绍什么样的低维数组才能使用广播机制进行运算。"
   ]
  },
  {
   "cell_type": "code",
   "execution_count": 16,
   "metadata": {},
   "outputs": [
    {
     "data": {
      "text/plain": [
       "array([[3, 4, 5],\n",
       "       [6, 7, 8]])"
      ]
     },
     "execution_count": 16,
     "metadata": {},
     "output_type": "execute_result"
    }
   ],
   "source": [
    "nums3+2"
   ]
  },
  {
   "cell_type": "code",
   "execution_count": 17,
   "metadata": {},
   "outputs": [
    {
     "data": {
      "text/plain": [
       "array([[2, 4, 6],\n",
       "       [5, 7, 9]])"
      ]
     },
     "execution_count": 17,
     "metadata": {},
     "output_type": "execute_result"
    }
   ],
   "source": [
    "nums3+nums1"
   ]
  },
  {
   "cell_type": "code",
   "execution_count": 19,
   "metadata": {},
   "outputs": [
    {
     "ename": "ValueError",
     "evalue": "operands could not be broadcast together with shapes (2,3) (2,) ",
     "output_type": "error",
     "traceback": [
      "\u001b[1;31m---------------------------------------------------------------------------\u001b[0m",
      "\u001b[1;31mValueError\u001b[0m                                Traceback (most recent call last)",
      "\u001b[1;32m<ipython-input-19-d096653177a3>\u001b[0m in \u001b[0;36m<module>\u001b[1;34m\u001b[0m\n\u001b[0;32m      2\u001b[0m \u001b[0mnums1_n\u001b[0m\u001b[1;33m=\u001b[0m\u001b[0mnp\u001b[0m\u001b[1;33m.\u001b[0m\u001b[0marray\u001b[0m\u001b[1;33m(\u001b[0m\u001b[1;33m[\u001b[0m\u001b[1;36m1\u001b[0m\u001b[1;33m,\u001b[0m\u001b[1;36m2\u001b[0m\u001b[1;33m]\u001b[0m\u001b[1;33m)\u001b[0m\u001b[1;33m\u001b[0m\u001b[1;33m\u001b[0m\u001b[0m\n\u001b[0;32m      3\u001b[0m \u001b[1;31m#注意：如果运行下面这行语句会报错\u001b[0m\u001b[1;33m\u001b[0m\u001b[1;33m\u001b[0m\u001b[1;33m\u001b[0m\u001b[0m\n\u001b[1;32m----> 4\u001b[1;33m \u001b[0mnums3\u001b[0m\u001b[1;33m+\u001b[0m\u001b[0mnums1_n\u001b[0m\u001b[1;33m\u001b[0m\u001b[1;33m\u001b[0m\u001b[0m\n\u001b[0m",
      "\u001b[1;31mValueError\u001b[0m: operands could not be broadcast together with shapes (2,3) (2,) "
     ]
    }
   ],
   "source": [
    "#无法应用广播的举例\n",
    "nums1_n=np.array([1,2])\n",
    "#注意：如果运行下面这行语句会报错\n",
    "nums3+nums1_n"
   ]
  },
  {
   "cell_type": "code",
   "execution_count": 81,
   "metadata": {},
   "outputs": [
    {
     "name": "stdout",
     "output_type": "stream",
     "text": [
      "[[5 1 1]\n",
      " [3 2 5]\n",
      " [6 7 4]\n",
      " [7 8 1]\n",
      " [6 8 5]\n",
      " [4 2 6]\n",
      " [6 1 9]\n",
      " [6 3 4]\n",
      " [4 3 3]\n",
      " [3 4 7]\n",
      " [4 9 1]\n",
      " [8 7 2]\n",
      " [8 1 9]\n",
      " [9 2 7]\n",
      " [3 7 9]\n",
      " [4 1 2]\n",
      " [1 5 5]\n",
      " [7 9 9]\n",
      " [3 3 3]\n",
      " [4 8 6]]\n",
      "[[2.5 0.5 0.3]\n",
      " [1.5 1.  1.5]\n",
      " [3.  3.5 1.2]\n",
      " [3.5 4.  0.3]\n",
      " [3.  4.  1.5]\n",
      " [2.  1.  1.8]\n",
      " [3.  0.5 2.7]\n",
      " [3.  1.5 1.2]\n",
      " [2.  1.5 0.9]\n",
      " [1.5 2.  2.1]\n",
      " [2.  4.5 0.3]\n",
      " [4.  3.5 0.6]\n",
      " [4.  0.5 2.7]\n",
      " [4.5 1.  2.1]\n",
      " [1.5 3.5 2.7]\n",
      " [2.  0.5 0.6]\n",
      " [0.5 2.5 1.5]\n",
      " [3.5 4.5 2.7]\n",
      " [1.5 1.5 0.9]\n",
      " [2.  4.  1.8]]\n"
     ]
    }
   ],
   "source": [
    "nums5=np.random.randint(1,10,(20,3))\n",
    "print(nums5)\n",
    "weight=np.array([0.5,0.5,0.3])\n",
    "print(nums5*weight)"
   ]
  },
  {
   "cell_type": "markdown",
   "metadata": {},
   "source": [
    "## 二、NumPy运算速度快（与list对比）"
   ]
  },
  {
   "cell_type": "markdown",
   "metadata": {},
   "source": [
    "元素的数据类型：\n",
    "- NumPy: 必须同一类型，连续内存\n",
    "- list: 可以不同类型\n",
    "\n",
    "与list对比，NumPy占用内存更少，更加高效利用内存。"
   ]
  },
  {
   "cell_type": "code",
   "execution_count": 82,
   "metadata": {},
   "outputs": [
    {
     "name": "stdout",
     "output_type": "stream",
     "text": [
      "[1, 2, 3]\n",
      "[1 2 3]\n"
     ]
    }
   ],
   "source": [
    "list1=[1,2,3]\n",
    "print(list1)\n",
    "arr1=np.array(list1)\n",
    "print(arr1)"
   ]
  },
  {
   "cell_type": "code",
   "execution_count": 83,
   "metadata": {},
   "outputs": [
    {
     "name": "stdout",
     "output_type": "stream",
     "text": [
      "[1, 'a', 2.2]\n",
      "['1' 'a' '2.2']\n"
     ]
    }
   ],
   "source": [
    "list2=[1,'a',2.2]\n",
    "print(list2)\n",
    "arr2=np.array(list2)\n",
    "print(arr2)"
   ]
  },
  {
   "cell_type": "code",
   "execution_count": 84,
   "metadata": {},
   "outputs": [
    {
     "name": "stdout",
     "output_type": "stream",
     "text": [
      "<U32\n"
     ]
    }
   ],
   "source": [
    "print(arr2.dtype)"
   ]
  },
  {
   "cell_type": "markdown",
   "metadata": {},
   "source": [
    "对于序列间的运算：\n",
    "- NumPy：向量化运算(vectorization)，批处理\n",
    "- list：使用循环\n",
    "\n",
    "与list对比，NumPy运算速度明显更快。"
   ]
  },
  {
   "cell_type": "code",
   "execution_count": 85,
   "metadata": {},
   "outputs": [
    {
     "name": "stdout",
     "output_type": "stream",
     "text": [
      "list_a: [1, 2, 3, 4, 5]\n",
      "arr_a: [1 2 3 4 5]\n",
      "[1, 2, 3, 4, 5, 6, 7, 8, 9, 10]\n",
      "[ 7  9 11 13 15]\n",
      "[7, 9, 11, 13, 15]\n"
     ]
    }
   ],
   "source": [
    "list_a=[1,2,3,4,5]\n",
    "list_b=[6,7,8,9,10]\n",
    "arr_a=np.array(list_a)\n",
    "arr_b=np.array(list_b)\n",
    "print('list_a:',list_a)\n",
    "print('arr_a:',arr_a)\n",
    "\n",
    "#注意看list和ndarray加法的不同\n",
    "print(list_a+list_b)\n",
    "print(arr_a+arr_b)\n",
    "\n",
    "#list元素相加要用循环实现\n",
    "list_sum=[]\n",
    "for i in range(len(list_a)):\n",
    "    list_sum.append(list_a[i]+list_b[i])\n",
    "print(list_sum)"
   ]
  },
  {
   "cell_type": "code",
   "execution_count": 86,
   "metadata": {},
   "outputs": [
    {
     "name": "stdout",
     "output_type": "stream",
     "text": [
      "1.04 ms ± 154 µs per loop (mean ± std. dev. of 7 runs, 1000 loops each)\n",
      "10.6 µs ± 970 ns per loop (mean ± std. dev. of 7 runs, 100000 loops each)\n"
     ]
    }
   ],
   "source": [
    "list3=list(range(10000))\n",
    "%timeit list4=[i+5 for i in list3]\n",
    "arr3=np.arange(10000)\n",
    "%timeit arr4=arr3+5"
   ]
  },
  {
   "cell_type": "markdown",
   "metadata": {},
   "source": [
    "## 三、NumPy的使用"
   ]
  },
  {
   "cell_type": "markdown",
   "metadata": {},
   "source": [
    "### 3.1 生成ndarray"
   ]
  },
  {
   "cell_type": "markdown",
   "metadata": {},
   "source": [
    "#### 1.通过list或tuple生成ndarray"
   ]
  },
  {
   "cell_type": "markdown",
   "metadata": {},
   "source": [
    "通过list生成"
   ]
  },
  {
   "cell_type": "code",
   "execution_count": 87,
   "metadata": {},
   "outputs": [
    {
     "name": "stdout",
     "output_type": "stream",
     "text": [
      "[1 2 3]\n",
      "(3,)\n",
      "1\n"
     ]
    }
   ],
   "source": [
    "data=np.array([1,2,3])\n",
    "#data=np.array([1,2,3],dtype='float')\n",
    "print(data)\n",
    "print(data.shape)\n",
    "print(data.ndim)"
   ]
  },
  {
   "cell_type": "code",
   "execution_count": 88,
   "metadata": {},
   "outputs": [
    {
     "name": "stdout",
     "output_type": "stream",
     "text": [
      "[[1 2 3]]\n",
      "(1, 3)\n",
      "2\n"
     ]
    }
   ],
   "source": [
    "data=np.array([[1,2,3]])\n",
    "print(data)\n",
    "print(data.shape)\n",
    "print(data.ndim)"
   ]
  },
  {
   "cell_type": "markdown",
   "metadata": {},
   "source": [
    "通过tuple生成"
   ]
  },
  {
   "cell_type": "code",
   "execution_count": 89,
   "metadata": {},
   "outputs": [
    {
     "name": "stdout",
     "output_type": "stream",
     "text": [
      "(3,)\n"
     ]
    },
    {
     "data": {
      "text/plain": [
       "array([1, 2, 3])"
      ]
     },
     "execution_count": 89,
     "metadata": {},
     "output_type": "execute_result"
    }
   ],
   "source": [
    "data=np.array((1,2,3))\n",
    "print(data.shape)\n",
    "data"
   ]
  },
  {
   "cell_type": "code",
   "execution_count": 90,
   "metadata": {},
   "outputs": [
    {
     "name": "stdout",
     "output_type": "stream",
     "text": [
      "(1, 3)\n"
     ]
    },
    {
     "data": {
      "text/plain": [
       "array([[1, 2, 3]])"
      ]
     },
     "execution_count": 90,
     "metadata": {},
     "output_type": "execute_result"
    }
   ],
   "source": [
    "#生成一维数组\n",
    "#data=np.array(((1,2,3)))\n",
    "#生成二维数组\n",
    "data=np.array(((1,2,3),))\n",
    "#data=np.array([(1,2,3)])\n",
    "print(data.shape)\n",
    "data"
   ]
  },
  {
   "cell_type": "code",
   "execution_count": 91,
   "metadata": {},
   "outputs": [
    {
     "name": "stdout",
     "output_type": "stream",
     "text": [
      "(2, 3)\n"
     ]
    },
    {
     "data": {
      "text/plain": [
       "array([[1, 2, 3],\n",
       "       [4, 5, 6]])"
      ]
     },
     "execution_count": 91,
     "metadata": {},
     "output_type": "execute_result"
    }
   ],
   "source": [
    "data=np.array(((1,2,3),(4,5,6)))\n",
    "print(data.shape)\n",
    "data"
   ]
  },
  {
   "cell_type": "markdown",
   "metadata": {},
   "source": [
    "#### 2.通过NumPy自带函数生成"
   ]
  },
  {
   "cell_type": "markdown",
   "metadata": {},
   "source": [
    "生成一维数组：\n",
    "- 等差数列：np.arange(起,止(不包括),间隔)；np.linspace(起,止(包括),个数)\n",
    "- 等比数列：np.logspace(起始幂,终止幂,个数,base=)"
   ]
  },
  {
   "cell_type": "code",
   "execution_count": 92,
   "metadata": {},
   "outputs": [
    {
     "data": {
      "text/plain": [
       "array([3, 5, 7, 9])"
      ]
     },
     "execution_count": 92,
     "metadata": {},
     "output_type": "execute_result"
    }
   ],
   "source": [
    "#data=np.arange(10)\n",
    "#data=np.arange(3,10)\n",
    "data=np.arange(3,10,2)\n",
    "data"
   ]
  },
  {
   "cell_type": "code",
   "execution_count": 93,
   "metadata": {},
   "outputs": [
    {
     "data": {
      "text/plain": [
       "array([[[ 0,  1],\n",
       "        [ 2,  3],\n",
       "        [ 4,  5]],\n",
       "\n",
       "       [[ 6,  7],\n",
       "        [ 8,  9],\n",
       "        [10, 11]]])"
      ]
     },
     "execution_count": 93,
     "metadata": {},
     "output_type": "execute_result"
    }
   ],
   "source": [
    "#reshape()函数设置为shape，tuple参数\n",
    "data=np.arange(12).reshape((2,3,2))\n",
    "#用array.reshape()时,直接输入各维度大小也可以\n",
    "#data=np.arange(12).reshape(2,3,2)\n",
    "data"
   ]
  },
  {
   "cell_type": "code",
   "execution_count": 94,
   "metadata": {},
   "outputs": [
    {
     "data": {
      "text/plain": [
       "array([ 3.        ,  4.16666667,  5.33333333,  6.5       ,  7.66666667,\n",
       "        8.83333333, 10.        ])"
      ]
     },
     "execution_count": 94,
     "metadata": {},
     "output_type": "execute_result"
    }
   ],
   "source": [
    "data=np.linspace(3,10,7)\n",
    "data"
   ]
  },
  {
   "cell_type": "code",
   "execution_count": 95,
   "metadata": {},
   "outputs": [
    {
     "name": "stdout",
     "output_type": "stream",
     "text": [
      "[ 1.  2.  3.  4.  5.  6.  7.  8.  9. 10.]\n",
      "[ 5.  7.  9. 11. 13. 15. 17. 19. 21. 23.]\n"
     ]
    },
    {
     "data": {
      "text/plain": [
       "[<matplotlib.lines.Line2D at 0x157a2872948>]"
      ]
     },
     "execution_count": 95,
     "metadata": {},
     "output_type": "execute_result"
    },
    {
     "data": {
      "image/png": "[encoded data removed]",
      "text/plain": [
       "<Figure size 432x288 with 1 Axes>"
      ]
     },
     "metadata": {
      "needs_background": "light"
     },
     "output_type": "display_data"
    }
   ],
   "source": [
    "x=np.linspace(1,10,10)\n",
    "print(x)\n",
    "y=x*2+3\n",
    "print(y)\n",
    "plt.plot(x,y)"
   ]
  },
  {
   "cell_type": "code",
   "execution_count": 96,
   "metadata": {},
   "outputs": [
    {
     "data": {
      "text/plain": [
       "array([ 1000.        ,  1584.89319246,  2511.88643151,  3981.07170553,\n",
       "        6309.5734448 , 10000.        ])"
      ]
     },
     "execution_count": 96,
     "metadata": {},
     "output_type": "execute_result"
    }
   ],
   "source": [
    "data=np.logspace(3,4,6)\n",
    "#data=np.logspace(3,4,6,base=2)\n",
    "data"
   ]
  },
  {
   "cell_type": "markdown",
   "metadata": {},
   "source": [
    "生成二维数组：np.eye(),np.diag()"
   ]
  },
  {
   "cell_type": "code",
   "execution_count": 97,
   "metadata": {},
   "outputs": [
    {
     "data": {
      "text/plain": [
       "array([[1., 0., 0.],\n",
       "       [0., 1., 0.],\n",
       "       [0., 0., 1.]])"
      ]
     },
     "execution_count": 97,
     "metadata": {},
     "output_type": "execute_result"
    }
   ],
   "source": [
    "data=np.eye(3)\n",
    "data"
   ]
  },
  {
   "cell_type": "code",
   "execution_count": 98,
   "metadata": {},
   "outputs": [
    {
     "data": {
      "text/plain": [
       "array([[3, 0, 0],\n",
       "       [0, 4, 0],\n",
       "       [0, 0, 5]])"
      ]
     },
     "execution_count": 98,
     "metadata": {},
     "output_type": "execute_result"
    }
   ],
   "source": [
    "data=np.diag([3,4,5])\n",
    "#data=np.diag([3,4,5],1)\n",
    "#data=np.diag([3,4,5],-2)\n",
    "data"
   ]
  },
  {
   "cell_type": "markdown",
   "metadata": {},
   "source": [
    "生成N维数组：\n",
    "- 全0：np.zeros(),np.zeros_like()\n",
    "- 空：np.empty(),np.empty_like()\n",
    "- 全1：np.ones(),np.ones_like()\n",
    "- 全为某个数：np.full(),np.full_like()\n",
    "- 随机：np.random.rand(),np.random.randn()"
   ]
  },
  {
   "cell_type": "code",
   "execution_count": 99,
   "metadata": {},
   "outputs": [
    {
     "data": {
      "text/plain": [
       "array([[0., 0., 0., 0.],\n",
       "       [0., 0., 0., 0.],\n",
       "       [0., 0., 0., 0.]])"
      ]
     },
     "execution_count": 99,
     "metadata": {},
     "output_type": "execute_result"
    }
   ],
   "source": [
    "data1=np.zeros((3,4))\n",
    "data1"
   ]
  },
  {
   "cell_type": "code",
   "execution_count": 100,
   "metadata": {},
   "outputs": [
    {
     "data": {
      "text/plain": [
       "array([[3., 0., 0., 0.],\n",
       "       [0., 4., 0., 0.],\n",
       "       [0., 0., 5., 0.]])"
      ]
     },
     "execution_count": 100,
     "metadata": {},
     "output_type": "execute_result"
    }
   ],
   "source": [
    "data2=np.array([3,4,5])\n",
    "np.fill_diagonal(data1,data2)\n",
    "data1"
   ]
  },
  {
   "cell_type": "code",
   "execution_count": 101,
   "metadata": {},
   "outputs": [
    {
     "data": {
      "text/plain": [
       "array([[6., 0., 0., 0.],\n",
       "       [0., 6., 0., 0.],\n",
       "       [0., 0., 6., 0.]])"
      ]
     },
     "execution_count": 101,
     "metadata": {},
     "output_type": "execute_result"
    }
   ],
   "source": [
    "np.fill_diagonal(data1,6)\n",
    "data1"
   ]
  },
  {
   "cell_type": "code",
   "execution_count": 102,
   "metadata": {},
   "outputs": [
    {
     "data": {
      "text/plain": [
       "array([[[ 0,  1,  2,  3],\n",
       "        [ 4,  5,  6,  7]],\n",
       "\n",
       "       [[ 8,  9, 10, 11],\n",
       "        [12, 13, 14, 15]],\n",
       "\n",
       "       [[16, 17, 18, 19],\n",
       "        [20, 21, 22, 23]]])"
      ]
     },
     "execution_count": 102,
     "metadata": {},
     "output_type": "execute_result"
    }
   ],
   "source": [
    "nums2"
   ]
  },
  {
   "cell_type": "code",
   "execution_count": 103,
   "metadata": {},
   "outputs": [
    {
     "data": {
      "text/plain": [
       "array([[[0, 0, 0, 0],\n",
       "        [0, 0, 0, 0]],\n",
       "\n",
       "       [[0, 0, 0, 0],\n",
       "        [0, 0, 0, 0]],\n",
       "\n",
       "       [[0, 0, 0, 0],\n",
       "        [0, 0, 0, 0]]])"
      ]
     },
     "execution_count": 103,
     "metadata": {},
     "output_type": "execute_result"
    }
   ],
   "source": [
    "data3=np.zeros_like(nums2)\n",
    "data3"
   ]
  },
  {
   "cell_type": "code",
   "execution_count": 104,
   "metadata": {},
   "outputs": [
    {
     "data": {
      "text/plain": [
       "array([[[ 0.,  1.,  2.,  3.],\n",
       "        [ 4.,  5.,  6.,  7.],\n",
       "        [ 8.,  9., 10., 11.]],\n",
       "\n",
       "       [[12., 13., 14., 15.],\n",
       "        [16., 17., 18., 19.],\n",
       "        [20., 21., 22., 23.]]])"
      ]
     },
     "execution_count": 104,
     "metadata": {},
     "output_type": "execute_result"
    }
   ],
   "source": [
    "data1=np.empty((2,3,4))\n",
    "data1"
   ]
  },
  {
   "cell_type": "code",
   "execution_count": 105,
   "metadata": {},
   "outputs": [
    {
     "data": {
      "text/plain": [
       "array([[1, 2, 3],\n",
       "       [4, 5, 6]])"
      ]
     },
     "execution_count": 105,
     "metadata": {},
     "output_type": "execute_result"
    }
   ],
   "source": [
    "nums3"
   ]
  },
  {
   "cell_type": "code",
   "execution_count": 106,
   "metadata": {},
   "outputs": [
    {
     "data": {
      "text/plain": [
       "array([[16843008, 16843009, 16843009],\n",
       "       [16843009, 16843009, 16843009]])"
      ]
     },
     "execution_count": 106,
     "metadata": {},
     "output_type": "execute_result"
    }
   ],
   "source": [
    "data2=np.empty_like(nums3)\n",
    "data2"
   ]
  },
  {
   "cell_type": "code",
   "execution_count": 107,
   "metadata": {},
   "outputs": [
    {
     "data": {
      "text/plain": [
       "array([[1., 1., 1., 1.],\n",
       "       [1., 1., 1., 1.],\n",
       "       [1., 1., 1., 1.]])"
      ]
     },
     "execution_count": 107,
     "metadata": {},
     "output_type": "execute_result"
    }
   ],
   "source": [
    "data1=np.ones((3,4))\n",
    "data1"
   ]
  },
  {
   "cell_type": "code",
   "execution_count": 108,
   "metadata": {},
   "outputs": [
    {
     "data": {
      "text/plain": [
       "array([[[1, 1, 1, 1],\n",
       "        [1, 1, 1, 1]],\n",
       "\n",
       "       [[1, 1, 1, 1],\n",
       "        [1, 1, 1, 1]],\n",
       "\n",
       "       [[1, 1, 1, 1],\n",
       "        [1, 1, 1, 1]]])"
      ]
     },
     "execution_count": 108,
     "metadata": {},
     "output_type": "execute_result"
    }
   ],
   "source": [
    "data2=np.ones_like(nums2)\n",
    "data2"
   ]
  },
  {
   "cell_type": "code",
   "execution_count": 109,
   "metadata": {},
   "outputs": [
    {
     "data": {
      "text/plain": [
       "array([[6, 6, 6, 6],\n",
       "       [6, 6, 6, 6],\n",
       "       [6, 6, 6, 6]])"
      ]
     },
     "execution_count": 109,
     "metadata": {},
     "output_type": "execute_result"
    }
   ],
   "source": [
    "data1=np.full((3,4),6)\n",
    "data1"
   ]
  },
  {
   "cell_type": "code",
   "execution_count": 110,
   "metadata": {},
   "outputs": [
    {
     "data": {
      "text/plain": [
       "array([[[3, 3, 3, 3],\n",
       "        [3, 3, 3, 3]],\n",
       "\n",
       "       [[3, 3, 3, 3],\n",
       "        [3, 3, 3, 3]],\n",
       "\n",
       "       [[3, 3, 3, 3],\n",
       "        [3, 3, 3, 3]]])"
      ]
     },
     "execution_count": 110,
     "metadata": {},
     "output_type": "execute_result"
    }
   ],
   "source": [
    "data2=np.full_like(nums2,3)\n",
    "data2"
   ]
  },
  {
   "cell_type": "code",
   "execution_count": 111,
   "metadata": {},
   "outputs": [
    {
     "name": "stdout",
     "output_type": "stream",
     "text": [
      "[[[ 0.49671415 -0.1382643   0.64768854  1.52302986 -0.23415337]\n",
      "  [-0.23413696  1.57921282  0.76743473 -0.46947439  0.54256004]\n",
      "  [-0.46341769 -0.46572975  0.24196227 -1.91328024 -1.72491783]\n",
      "  [-0.56228753 -1.01283112  0.31424733 -0.90802408 -1.4123037 ]]\n",
      "\n",
      " [[ 1.46564877 -0.2257763   0.0675282  -1.42474819 -0.54438272]\n",
      "  [ 0.11092259 -1.15099358  0.37569802 -0.60063869 -0.29169375]\n",
      "  [-0.60170661  1.85227818 -0.01349722 -1.05771093  0.82254491]\n",
      "  [-1.22084365  0.2088636  -1.95967012 -1.32818605  0.19686124]]\n",
      "\n",
      " [[ 0.73846658  0.17136828 -0.11564828 -0.3011037  -1.47852199]\n",
      "  [-0.71984421 -0.46063877  1.05712223  0.34361829 -1.76304016]\n",
      "  [ 0.32408397 -0.38508228 -0.676922    0.61167629  1.03099952]\n",
      "  [ 0.93128012 -0.83921752 -0.30921238  0.33126343  0.97554513]]]\n",
      "-0.15465468307048993\n"
     ]
    }
   ],
   "source": [
    "np.random.seed(42)\n",
    "data1=np.random.randn(3,4,5)\n",
    "print(data1)\n",
    "print(np.mean(data1))"
   ]
  },
  {
   "cell_type": "code",
   "execution_count": 112,
   "metadata": {},
   "outputs": [
    {
     "name": "stdout",
     "output_type": "stream",
     "text": [
      "[[[0.33089802 0.06355835 0.31098232 0.32518332 0.72960618]\n",
      "  [0.63755747 0.88721274 0.47221493 0.11959425 0.71324479]\n",
      "  [0.76078505 0.5612772  0.77096718 0.4937956  0.52273283]\n",
      "  [0.42754102 0.02541913 0.10789143 0.03142919 0.63641041]]\n",
      "\n",
      " [[0.31435598 0.50857069 0.90756647 0.24929223 0.41038292]\n",
      "  [0.75555114 0.22879817 0.07697991 0.28975145 0.16122129]\n",
      "  [0.92969765 0.80812038 0.63340376 0.87146059 0.80367208]\n",
      "  [0.18657006 0.892559   0.53934224 0.80744016 0.8960913 ]]\n",
      "\n",
      " [[0.31800347 0.11005192 0.22793516 0.42710779 0.81801477]\n",
      "  [0.86073058 0.00695213 0.5107473  0.417411   0.22210781]\n",
      "  [0.11986537 0.33761517 0.9429097  0.32320293 0.51879062]\n",
      "  [0.70301896 0.3636296  0.97178208 0.96244729 0.2517823 ]]]\n",
      "0.4935539138404294\n"
     ]
    }
   ],
   "source": [
    "data2=np.random.rand(3,4,5)\n",
    "print(data2)\n",
    "print(np.mean(data2))"
   ]
  },
  {
   "cell_type": "code",
   "execution_count": 113,
   "metadata": {},
   "outputs": [
    {
     "data": {
      "text/plain": [
       "array([[2, 3, 1, 5],\n",
       "       [1, 8, 1, 1],\n",
       "       [2, 2, 6, 7]])"
      ]
     },
     "execution_count": 113,
     "metadata": {},
     "output_type": "execute_result"
    }
   ],
   "source": [
    "data3=np.random.randint(1,10,(3,4))\n",
    "data3"
   ]
  },
  {
   "cell_type": "markdown",
   "metadata": {},
   "source": [
    "#### 3.通过数组的变换、拼接生成"
   ]
  },
  {
   "cell_type": "markdown",
   "metadata": {},
   "source": [
    "索引与轴的概念"
   ]
  },
  {
   "cell_type": "code",
   "execution_count": 114,
   "metadata": {},
   "outputs": [
    {
     "data": {
      "text/plain": [
       "array([0, 1, 2, 3, 4, 5, 6, 7, 8, 9])"
      ]
     },
     "execution_count": 114,
     "metadata": {},
     "output_type": "execute_result"
    }
   ],
   "source": [
    "arr1=np.arange(10)\n",
    "arr1"
   ]
  },
  {
   "cell_type": "code",
   "execution_count": 115,
   "metadata": {},
   "outputs": [
    {
     "data": {
      "text/plain": [
       "3"
      ]
     },
     "execution_count": 115,
     "metadata": {},
     "output_type": "execute_result"
    }
   ],
   "source": [
    "#索引某个元素\n",
    "arr1[3]"
   ]
  },
  {
   "cell_type": "code",
   "execution_count": 116,
   "metadata": {},
   "outputs": [
    {
     "data": {
      "text/plain": [
       "array([3, 4, 5])"
      ]
     },
     "execution_count": 116,
     "metadata": {},
     "output_type": "execute_result"
    }
   ],
   "source": [
    "#切片\n",
    "arr1[3:6]"
   ]
  },
  {
   "cell_type": "code",
   "execution_count": 117,
   "metadata": {},
   "outputs": [
    {
     "name": "stdout",
     "output_type": "stream",
     "text": [
      "[10 10 10]\n",
      "[ 0  1  2 10 10 10  6  7  8  9]\n"
     ]
    }
   ],
   "source": [
    "part=arr1[3:6]\n",
    "part[:]=10\n",
    "print(part)\n",
    "print(arr1)"
   ]
  },
  {
   "cell_type": "code",
   "execution_count": 118,
   "metadata": {},
   "outputs": [
    {
     "data": {
      "text/plain": [
       "array([[ 0,  1,  2,  3],\n",
       "       [ 4,  5,  6,  7],\n",
       "       [ 8,  9, 10, 11]])"
      ]
     },
     "execution_count": 118,
     "metadata": {},
     "output_type": "execute_result"
    }
   ],
   "source": [
    "arr2=np.arange(12).reshape(3,4)\n",
    "arr2"
   ]
  },
  {
   "cell_type": "code",
   "execution_count": 119,
   "metadata": {},
   "outputs": [
    {
     "data": {
      "text/plain": [
       "array([4, 5, 6, 7])"
      ]
     },
     "execution_count": 119,
     "metadata": {},
     "output_type": "execute_result"
    }
   ],
   "source": [
    "#索引行\n",
    "arr2[1]"
   ]
  },
  {
   "cell_type": "code",
   "execution_count": 120,
   "metadata": {},
   "outputs": [
    {
     "data": {
      "text/plain": [
       "array([ 2,  6, 10])"
      ]
     },
     "execution_count": 120,
     "metadata": {},
     "output_type": "execute_result"
    }
   ],
   "source": [
    "#索引列\n",
    "arr2[:,2]"
   ]
  },
  {
   "cell_type": "code",
   "execution_count": 121,
   "metadata": {},
   "outputs": [
    {
     "name": "stdout",
     "output_type": "stream",
     "text": [
      "6\n",
      "6\n"
     ]
    }
   ],
   "source": [
    "#索引某个元素，以下两种方式都可以\n",
    "print(arr2[1][2])\n",
    "print(arr2[1,2])"
   ]
  },
  {
   "cell_type": "code",
   "execution_count": 122,
   "metadata": {},
   "outputs": [
    {
     "data": {
      "text/plain": [
       "array([[[ 0,  1,  2,  3],\n",
       "        [ 4,  5,  6,  7]],\n",
       "\n",
       "       [[ 8,  9, 10, 11],\n",
       "        [12, 13, 14, 15]],\n",
       "\n",
       "       [[16, 17, 18, 19],\n",
       "        [20, 21, 22, 23]]])"
      ]
     },
     "execution_count": 122,
     "metadata": {},
     "output_type": "execute_result"
    }
   ],
   "source": [
    "arr3=np.arange(24).reshape(3,2,4)\n",
    "arr3"
   ]
  },
  {
   "cell_type": "code",
   "execution_count": 123,
   "metadata": {},
   "outputs": [
    {
     "data": {
      "text/plain": [
       "6"
      ]
     },
     "execution_count": 123,
     "metadata": {},
     "output_type": "execute_result"
    }
   ],
   "source": [
    "arr3[0,1,2]"
   ]
  },
  {
   "cell_type": "markdown",
   "metadata": {},
   "source": [
    "轴变换：\n",
    "- T(只用于二维数组)\n",
    "- transpose \n",
    "- swapaxes \n",
    "\n",
    "维度变化：\n",
    "- reshape\n",
    "- ravel,flatten\n",
    "- newaxis"
   ]
  },
  {
   "cell_type": "code",
   "execution_count": 124,
   "metadata": {},
   "outputs": [
    {
     "data": {
      "text/plain": [
       "array([[ 0,  1,  2,  3],\n",
       "       [ 4,  5,  6,  7],\n",
       "       [ 8,  9, 10, 11]])"
      ]
     },
     "execution_count": 124,
     "metadata": {},
     "output_type": "execute_result"
    }
   ],
   "source": [
    "arr2"
   ]
  },
  {
   "cell_type": "code",
   "execution_count": 125,
   "metadata": {},
   "outputs": [
    {
     "data": {
      "text/plain": [
       "array([[ 0,  4,  8],\n",
       "       [ 1,  5,  9],\n",
       "       [ 2,  6, 10],\n",
       "       [ 3,  7, 11]])"
      ]
     },
     "execution_count": 125,
     "metadata": {},
     "output_type": "execute_result"
    }
   ],
   "source": [
    "arr4=arr2.T\n",
    "arr4"
   ]
  },
  {
   "cell_type": "code",
   "execution_count": 126,
   "metadata": {},
   "outputs": [
    {
     "data": {
      "text/plain": [
       "array([[ 0,  4,  8],\n",
       "       [ 1,  5,  9],\n",
       "       [ 2,  6, 10],\n",
       "       [ 3,  7, 11]])"
      ]
     },
     "execution_count": 126,
     "metadata": {},
     "output_type": "execute_result"
    }
   ],
   "source": [
    "arr2.transpose(1,0)"
   ]
  },
  {
   "cell_type": "code",
   "execution_count": 127,
   "metadata": {},
   "outputs": [
    {
     "data": {
      "text/plain": [
       "array([[[ 0,  1,  2,  3],\n",
       "        [ 4,  5,  6,  7]],\n",
       "\n",
       "       [[ 8,  9, 10, 11],\n",
       "        [12, 13, 14, 15]],\n",
       "\n",
       "       [[16, 17, 18, 19],\n",
       "        [20, 21, 22, 23]]])"
      ]
     },
     "execution_count": 127,
     "metadata": {},
     "output_type": "execute_result"
    }
   ],
   "source": [
    "arr3"
   ]
  },
  {
   "cell_type": "code",
   "execution_count": 128,
   "metadata": {},
   "outputs": [
    {
     "data": {
      "text/plain": [
       "array([[[ 0,  8, 16],\n",
       "        [ 1,  9, 17],\n",
       "        [ 2, 10, 18],\n",
       "        [ 3, 11, 19]],\n",
       "\n",
       "       [[ 4, 12, 20],\n",
       "        [ 5, 13, 21],\n",
       "        [ 6, 14, 22],\n",
       "        [ 7, 15, 23]]])"
      ]
     },
     "execution_count": 128,
     "metadata": {},
     "output_type": "execute_result"
    }
   ],
   "source": [
    "arr3.transpose(1,2,0)"
   ]
  },
  {
   "cell_type": "code",
   "execution_count": 129,
   "metadata": {},
   "outputs": [
    {
     "data": {
      "text/plain": [
       "array([[[ 0,  1,  2,  3],\n",
       "        [ 8,  9, 10, 11],\n",
       "        [16, 17, 18, 19]],\n",
       "\n",
       "       [[ 4,  5,  6,  7],\n",
       "        [12, 13, 14, 15],\n",
       "        [20, 21, 22, 23]]])"
      ]
     },
     "execution_count": 129,
     "metadata": {},
     "output_type": "execute_result"
    }
   ],
   "source": [
    "arr3.swapaxes(1,0)"
   ]
  },
  {
   "cell_type": "code",
   "execution_count": null,
   "metadata": {},
   "outputs": [],
   "source": []
  },
  {
   "cell_type": "code",
   "execution_count": 130,
   "metadata": {},
   "outputs": [
    {
     "data": {
      "text/plain": [
       "array([1, 3, 4, 6])"
      ]
     },
     "execution_count": 130,
     "metadata": {},
     "output_type": "execute_result"
    }
   ],
   "source": [
    "arr4=np.array([1,3,4,6])\n",
    "arr4"
   ]
  },
  {
   "cell_type": "code",
   "execution_count": 131,
   "metadata": {},
   "outputs": [
    {
     "data": {
      "text/plain": [
       "array([[1, 3],\n",
       "       [4, 6]])"
      ]
     },
     "execution_count": 131,
     "metadata": {},
     "output_type": "execute_result"
    }
   ],
   "source": [
    "arr_n=arr4.reshape(2,2)\n",
    "arr_n"
   ]
  },
  {
   "cell_type": "code",
   "execution_count": 132,
   "metadata": {},
   "outputs": [
    {
     "data": {
      "text/plain": [
       "array([1, 3, 4, 6])"
      ]
     },
     "execution_count": 132,
     "metadata": {},
     "output_type": "execute_result"
    }
   ],
   "source": [
    "#ravel()函数产生的数组是原数组的view\n",
    "arr_r=arr_n.ravel()\n",
    "arr_r"
   ]
  },
  {
   "cell_type": "code",
   "execution_count": 133,
   "metadata": {},
   "outputs": [
    {
     "name": "stdout",
     "output_type": "stream",
     "text": [
      "[1 2 2 6]\n",
      "[[1 2]\n",
      " [2 6]]\n"
     ]
    }
   ],
   "source": [
    "arr_r[1:3]=2\n",
    "print(arr_r)\n",
    "print(arr_n)"
   ]
  },
  {
   "cell_type": "code",
   "execution_count": 134,
   "metadata": {},
   "outputs": [
    {
     "data": {
      "text/plain": [
       "array([1, 2, 2, 6])"
      ]
     },
     "execution_count": 134,
     "metadata": {},
     "output_type": "execute_result"
    }
   ],
   "source": [
    "#flatten函数产生的数组是原数组的copy\n",
    "arr_f=arr_n.flatten()\n",
    "arr_f"
   ]
  },
  {
   "cell_type": "code",
   "execution_count": 135,
   "metadata": {},
   "outputs": [
    {
     "name": "stdout",
     "output_type": "stream",
     "text": [
      "[1 3 3 6]\n",
      "[[1 2]\n",
      " [2 6]]\n"
     ]
    }
   ],
   "source": [
    "arr_f[1:3]=3\n",
    "print(arr_f)\n",
    "print(arr_n)"
   ]
  },
  {
   "cell_type": "code",
   "execution_count": 136,
   "metadata": {},
   "outputs": [
    {
     "data": {
      "text/plain": [
       "array([[1, 2, 2, 6]])"
      ]
     },
     "execution_count": 136,
     "metadata": {},
     "output_type": "execute_result"
    }
   ],
   "source": [
    "arr4.reshape(1,4)"
   ]
  },
  {
   "cell_type": "code",
   "execution_count": 137,
   "metadata": {},
   "outputs": [
    {
     "data": {
      "text/plain": [
       "array([[[1],\n",
       "        [2],\n",
       "        [2],\n",
       "        [6]]])"
      ]
     },
     "execution_count": 137,
     "metadata": {},
     "output_type": "execute_result"
    }
   ],
   "source": [
    "arr4.reshape(1,4,1)"
   ]
  },
  {
   "cell_type": "code",
   "execution_count": 138,
   "metadata": {},
   "outputs": [
    {
     "data": {
      "text/plain": [
       "array([[1, 2, 2, 6]])"
      ]
     },
     "execution_count": 138,
     "metadata": {},
     "output_type": "execute_result"
    }
   ],
   "source": [
    "arr4[np.newaxis,:]"
   ]
  },
  {
   "cell_type": "code",
   "execution_count": 139,
   "metadata": {},
   "outputs": [
    {
     "data": {
      "text/plain": [
       "array([[[1],\n",
       "        [2],\n",
       "        [2],\n",
       "        [6]]])"
      ]
     },
     "execution_count": 139,
     "metadata": {},
     "output_type": "execute_result"
    }
   ],
   "source": [
    "arr4[np.newaxis,:,np.newaxis]"
   ]
  },
  {
   "cell_type": "markdown",
   "metadata": {},
   "source": [
    "什么样的低维数组可以进行广播运算？\n",
    "\n",
    "从右往左，每个维度的大小或者与高维数组相同，或者为1。"
   ]
  },
  {
   "cell_type": "code",
   "execution_count": 140,
   "metadata": {},
   "outputs": [
    {
     "data": {
      "text/plain": [
       "array([[[ 0,  1,  2,  3],\n",
       "        [ 4,  5,  6,  7],\n",
       "        [ 8,  9, 10, 11]],\n",
       "\n",
       "       [[12, 13, 14, 15],\n",
       "        [16, 17, 18, 19],\n",
       "        [20, 21, 22, 23]]])"
      ]
     },
     "execution_count": 140,
     "metadata": {},
     "output_type": "execute_result"
    }
   ],
   "source": [
    "big=np.arange(24).reshape(2,3,4)\n",
    "big"
   ]
  },
  {
   "cell_type": "code",
   "execution_count": 141,
   "metadata": {},
   "outputs": [
    {
     "name": "stdout",
     "output_type": "stream",
     "text": [
      "[2]\n"
     ]
    },
    {
     "data": {
      "text/plain": [
       "array([[[ 2,  3,  4,  5],\n",
       "        [ 6,  7,  8,  9],\n",
       "        [10, 11, 12, 13]],\n",
       "\n",
       "       [[14, 15, 16, 17],\n",
       "        [18, 19, 20, 21],\n",
       "        [22, 23, 24, 25]]])"
      ]
     },
     "execution_count": 141,
     "metadata": {},
     "output_type": "execute_result"
    }
   ],
   "source": [
    "#一维数组\n",
    "#small_a=np.array([1,2,3,4])\n",
    "small_a=np.array([2,])\n",
    "#small_a=np.array([1,2])#不匹配\n",
    "#small_a=np.array([1,2,3])#不匹配\n",
    "\n",
    "print(small_a)\n",
    "big+small_a"
   ]
  },
  {
   "cell_type": "code",
   "execution_count": 142,
   "metadata": {},
   "outputs": [
    {
     "name": "stdout",
     "output_type": "stream",
     "text": [
      "[[ 0  1  2  3]\n",
      " [ 4  5  6  7]\n",
      " [ 8  9 10 11]]\n"
     ]
    },
    {
     "data": {
      "text/plain": [
       "array([[[ 0,  2,  4,  6],\n",
       "        [ 8, 10, 12, 14],\n",
       "        [16, 18, 20, 22]],\n",
       "\n",
       "       [[12, 14, 16, 18],\n",
       "        [20, 22, 24, 26],\n",
       "        [28, 30, 32, 34]]])"
      ]
     },
     "execution_count": 142,
     "metadata": {},
     "output_type": "execute_result"
    }
   ],
   "source": [
    "#二维数组\n",
    "small_b=np.arange(12).reshape(3,4)\n",
    "#small_b=np.arange(3).reshape(3,1)\n",
    "#small_b=np.arange(4).reshape(1,4)\n",
    "#small_b=np.arange(8).reshape(2,4)#不匹配\n",
    "#small_b=np.arange(6).reshape(2,3)#不匹配\n",
    "\n",
    "print(small_b)\n",
    "big+small_b"
   ]
  },
  {
   "cell_type": "code",
   "execution_count": 143,
   "metadata": {},
   "outputs": [
    {
     "name": "stdout",
     "output_type": "stream",
     "text": [
      "[[[ 0  1  2  3]\n",
      "  [ 4  5  6  7]\n",
      "  [ 8  9 10 11]]]\n"
     ]
    },
    {
     "data": {
      "text/plain": [
       "array([[[ 0,  2,  4,  6],\n",
       "        [ 8, 10, 12, 14],\n",
       "        [16, 18, 20, 22]],\n",
       "\n",
       "       [[12, 14, 16, 18],\n",
       "        [20, 22, 24, 26],\n",
       "        [28, 30, 32, 34]]])"
      ]
     },
     "execution_count": 143,
     "metadata": {},
     "output_type": "execute_result"
    }
   ],
   "source": [
    "#三维数组\n",
    "small_c=np.arange(12).reshape(1,3,4)\n",
    "#small_c=np.arange(8).reshape(2,1,4)\n",
    "#small_c=np.arange(6).reshape(2,3,1)\n",
    "#small_c=np.arange(4).reshape(1,1,4)\n",
    "#其它的可以自己试试^V^\n",
    "#small_c=np.arange(6).reshape(2,3,2)#不匹配\n",
    "\n",
    "print(small_c)\n",
    "big+small_c"
   ]
  },
  {
   "cell_type": "markdown",
   "metadata": {},
   "source": [
    "fancy indexing（花式索引）：用整数数组索引"
   ]
  },
  {
   "cell_type": "code",
   "execution_count": 144,
   "metadata": {},
   "outputs": [
    {
     "data": {
      "text/plain": [
       "array([[ 0,  1,  2,  3],\n",
       "       [ 4,  5,  6,  7],\n",
       "       [ 8,  9, 10, 11],\n",
       "       [12, 13, 14, 15],\n",
       "       [16, 17, 18, 19],\n",
       "       [20, 21, 22, 23]])"
      ]
     },
     "execution_count": 144,
     "metadata": {},
     "output_type": "execute_result"
    }
   ],
   "source": [
    "arr5=np.arange(24).reshape(6,4)\n",
    "arr5"
   ]
  },
  {
   "cell_type": "code",
   "execution_count": 145,
   "metadata": {},
   "outputs": [
    {
     "data": {
      "text/plain": [
       "array([[16, 17, 18, 19],\n",
       "       [12, 13, 14, 15],\n",
       "       [ 4,  5,  6,  7]])"
      ]
     },
     "execution_count": 145,
     "metadata": {},
     "output_type": "execute_result"
    }
   ],
   "source": [
    "arr5[[4,3,1]]"
   ]
  },
  {
   "cell_type": "code",
   "execution_count": 146,
   "metadata": {},
   "outputs": [
    {
     "data": {
      "text/plain": [
       "array([[ 3,  1],\n",
       "       [ 7,  5],\n",
       "       [11,  9],\n",
       "       [15, 13],\n",
       "       [19, 17],\n",
       "       [23, 21]])"
      ]
     },
     "execution_count": 146,
     "metadata": {},
     "output_type": "execute_result"
    }
   ],
   "source": [
    "arr5[:,[3,1]]"
   ]
  },
  {
   "cell_type": "code",
   "execution_count": 147,
   "metadata": {},
   "outputs": [
    {
     "ename": "IndexError",
     "evalue": "shape mismatch: indexing arrays could not be broadcast together with shapes (3,) (2,) ",
     "output_type": "error",
     "traceback": [
      "\u001b[1;31m---------------------------------------------------------------------------\u001b[0m",
      "\u001b[1;31mIndexError\u001b[0m                                Traceback (most recent call last)",
      "\u001b[1;32m<ipython-input-147-078952d113ec>\u001b[0m in \u001b[0;36m<module>\u001b[1;34m\u001b[0m\n\u001b[0;32m      1\u001b[0m \u001b[1;31m#注意：如果运行下面这行语句会报错\u001b[0m\u001b[1;33m\u001b[0m\u001b[1;33m\u001b[0m\u001b[1;33m\u001b[0m\u001b[0m\n\u001b[1;32m----> 2\u001b[1;33m \u001b[0marr5\u001b[0m\u001b[1;33m[\u001b[0m\u001b[1;33m[\u001b[0m\u001b[1;36m4\u001b[0m\u001b[1;33m,\u001b[0m\u001b[1;36m3\u001b[0m\u001b[1;33m,\u001b[0m\u001b[1;36m1\u001b[0m\u001b[1;33m]\u001b[0m\u001b[1;33m,\u001b[0m\u001b[1;33m[\u001b[0m\u001b[1;36m3\u001b[0m\u001b[1;33m,\u001b[0m\u001b[1;36m1\u001b[0m\u001b[1;33m]\u001b[0m\u001b[1;33m]\u001b[0m\u001b[1;33m\u001b[0m\u001b[1;33m\u001b[0m\u001b[0m\n\u001b[0m",
      "\u001b[1;31mIndexError\u001b[0m: shape mismatch: indexing arrays could not be broadcast together with shapes (3,) (2,) "
     ]
    }
   ],
   "source": [
    "#注意：如果运行下面这行语句会报错\n",
    "arr5[[4,3,1],[3,1]]"
   ]
  },
  {
   "cell_type": "code",
   "execution_count": 148,
   "metadata": {},
   "outputs": [
    {
     "data": {
      "text/plain": [
       "array([[19, 17],\n",
       "       [15, 13],\n",
       "       [ 7,  5]])"
      ]
     },
     "execution_count": 148,
     "metadata": {},
     "output_type": "execute_result"
    }
   ],
   "source": [
    "arr5[[4,3,1]][:,[3,1]]"
   ]
  },
  {
   "cell_type": "code",
   "execution_count": 149,
   "metadata": {},
   "outputs": [
    {
     "data": {
      "text/plain": [
       "array([19, 13])"
      ]
     },
     "execution_count": 149,
     "metadata": {},
     "output_type": "execute_result"
    }
   ],
   "source": [
    "arr5[[4,3],[3,1]]"
   ]
  },
  {
   "cell_type": "code",
   "execution_count": 150,
   "metadata": {},
   "outputs": [
    {
     "data": {
      "text/plain": [
       "array([16, 15,  5])"
      ]
     },
     "execution_count": 150,
     "metadata": {},
     "output_type": "execute_result"
    }
   ],
   "source": [
    "arr5[[4,3,1],[0,3,1]]"
   ]
  },
  {
   "cell_type": "markdown",
   "metadata": {},
   "source": [
    "boolean indexing（布尔索引）"
   ]
  },
  {
   "cell_type": "code",
   "execution_count": 151,
   "metadata": {},
   "outputs": [
    {
     "data": {
      "text/plain": [
       "array([[ 0,  1,  2,  3],\n",
       "       [ 4,  5,  6,  7],\n",
       "       [ 8,  9, 10, 11],\n",
       "       [12, 13, 14, 15],\n",
       "       [16, 17, 18, 19],\n",
       "       [20, 21, 22, 23]])"
      ]
     },
     "execution_count": 151,
     "metadata": {},
     "output_type": "execute_result"
    }
   ],
   "source": [
    "arr5"
   ]
  },
  {
   "cell_type": "code",
   "execution_count": 152,
   "metadata": {},
   "outputs": [
    {
     "data": {
      "text/plain": [
       "array([11, 12, 13, 14, 15, 16, 17, 18, 19, 20, 21, 22, 23])"
      ]
     },
     "execution_count": 152,
     "metadata": {},
     "output_type": "execute_result"
    }
   ],
   "source": [
    "arr5[arr5>10]"
   ]
  },
  {
   "cell_type": "code",
   "execution_count": 153,
   "metadata": {},
   "outputs": [
    {
     "data": {
      "text/plain": [
       "array([False, False, False, False,  True,  True])"
      ]
     },
     "execution_count": 153,
     "metadata": {},
     "output_type": "execute_result"
    }
   ],
   "source": [
    "arr6=np.arange(6)\n",
    "arr6>3"
   ]
  },
  {
   "cell_type": "code",
   "execution_count": 154,
   "metadata": {},
   "outputs": [
    {
     "data": {
      "text/plain": [
       "array([[16, 17, 18, 19],\n",
       "       [20, 21, 22, 23]])"
      ]
     },
     "execution_count": 154,
     "metadata": {},
     "output_type": "execute_result"
    }
   ],
   "source": [
    "arr5[arr6>3]"
   ]
  },
  {
   "cell_type": "code",
   "execution_count": 155,
   "metadata": {},
   "outputs": [
    {
     "data": {
      "text/plain": [
       "array([[ 2,  3],\n",
       "       [ 6,  7],\n",
       "       [10, 11],\n",
       "       [14, 15],\n",
       "       [18, 19],\n",
       "       [22, 23]])"
      ]
     },
     "execution_count": 155,
     "metadata": {},
     "output_type": "execute_result"
    }
   ],
   "source": [
    "arr7=np.arange(4)\n",
    "arr5[:,arr7>1]"
   ]
  },
  {
   "cell_type": "markdown",
   "metadata": {},
   "source": [
    "数组拼接\n",
    "\n",
    "- hstack,vstack\n",
    "- concatenate"
   ]
  },
  {
   "cell_type": "code",
   "execution_count": 156,
   "metadata": {},
   "outputs": [
    {
     "name": "stdout",
     "output_type": "stream",
     "text": [
      "[[0 1]\n",
      " [2 3]\n",
      " [4 5]]\n",
      "[[ 0  1  2  3  4]\n",
      " [ 5  6  7  8  9]\n",
      " [10 11 12 13 14]]\n",
      "[[0 1]\n",
      " [2 3]\n",
      " [4 5]\n",
      " [6 7]]\n"
     ]
    }
   ],
   "source": [
    "arr_a=np.arange(6).reshape(3,2)\n",
    "print(arr_a)\n",
    "arr_b=np.arange(15).reshape(3,5)\n",
    "print(arr_b)\n",
    "arr_c=np.arange(8).reshape(4,2)\n",
    "print(arr_c)"
   ]
  },
  {
   "cell_type": "code",
   "execution_count": 157,
   "metadata": {},
   "outputs": [
    {
     "data": {
      "text/plain": [
       "array([[ 0,  1,  0,  1,  2,  3,  4],\n",
       "       [ 2,  3,  5,  6,  7,  8,  9],\n",
       "       [ 4,  5, 10, 11, 12, 13, 14]])"
      ]
     },
     "execution_count": 157,
     "metadata": {},
     "output_type": "execute_result"
    }
   ],
   "source": [
    "np.hstack((arr_a,arr_b))"
   ]
  },
  {
   "cell_type": "code",
   "execution_count": 158,
   "metadata": {},
   "outputs": [
    {
     "data": {
      "text/plain": [
       "array([[0, 1],\n",
       "       [2, 3],\n",
       "       [4, 5],\n",
       "       [0, 1],\n",
       "       [2, 3],\n",
       "       [4, 5],\n",
       "       [6, 7]])"
      ]
     },
     "execution_count": 158,
     "metadata": {},
     "output_type": "execute_result"
    }
   ],
   "source": [
    "np.vstack((arr_a,arr_c))"
   ]
  },
  {
   "cell_type": "code",
   "execution_count": 159,
   "metadata": {},
   "outputs": [
    {
     "data": {
      "text/plain": [
       "array([[ 0,  1,  0,  1,  2,  3,  4],\n",
       "       [ 2,  3,  5,  6,  7,  8,  9],\n",
       "       [ 4,  5, 10, 11, 12, 13, 14]])"
      ]
     },
     "execution_count": 159,
     "metadata": {},
     "output_type": "execute_result"
    }
   ],
   "source": [
    "np.concatenate([arr_a,arr_b],axis=1)"
   ]
  },
  {
   "cell_type": "code",
   "execution_count": 160,
   "metadata": {},
   "outputs": [
    {
     "data": {
      "text/plain": [
       "array([[0, 1],\n",
       "       [2, 3],\n",
       "       [4, 5],\n",
       "       [0, 1],\n",
       "       [2, 3],\n",
       "       [4, 5],\n",
       "       [6, 7]])"
      ]
     },
     "execution_count": 160,
     "metadata": {},
     "output_type": "execute_result"
    }
   ],
   "source": [
    "np.concatenate([arr_a,arr_c],axis=0)"
   ]
  },
  {
   "cell_type": "markdown",
   "metadata": {},
   "source": [
    "#### 4.与其它Python库交互，如pandas"
   ]
  },
  {
   "cell_type": "code",
   "execution_count": 161,
   "metadata": {},
   "outputs": [
    {
     "name": "stdout",
     "output_type": "stream",
     "text": [
      "['anagrams', 'anscombe', 'attention', 'brain_networks', 'car_crashes', 'diamonds', 'dots', 'exercise', 'flights', 'fmri', 'gammas', 'geyser', 'iris', 'mpg', 'penguins', 'planets', 'taxis', 'tips', 'titanic']\n"
     ]
    }
   ],
   "source": [
    "import pandas as pd\n",
    "import seaborn as sns\n",
    "print(sns.get_dataset_names())"
   ]
  },
  {
   "cell_type": "code",
   "execution_count": 162,
   "metadata": {},
   "outputs": [
    {
     "data": {
      "text/html": [
       "<div>\n",
       "<style scoped>\n",
       "    .dataframe tbody tr th:only-of-type {\n",
       "        vertical-align: middle;\n",
       "    }\n",
       "\n",
       "    .dataframe tbody tr th {\n",
       "        vertical-align: top;\n",
       "    }\n",
       "\n",
       "    .dataframe thead th {\n",
       "        text-align: right;\n",
       "    }\n",
       "</style>\n",
       "<table border=\"1\" class=\"dataframe\">\n",
       "  <thead>\n",
       "    <tr style=\"text-align: right;\">\n",
       "      <th></th>\n",
       "      <th>total_bill</th>\n",
       "      <th>tip</th>\n",
       "      <th>sex</th>\n",
       "      <th>smoker</th>\n",
       "      <th>day</th>\n",
       "      <th>time</th>\n",
       "      <th>size</th>\n",
       "    </tr>\n",
       "  </thead>\n",
       "  <tbody>\n",
       "    <tr>\n",
       "      <th>0</th>\n",
       "      <td>16.99</td>\n",
       "      <td>1.01</td>\n",
       "      <td>Female</td>\n",
       "      <td>No</td>\n",
       "      <td>Sun</td>\n",
       "      <td>Dinner</td>\n",
       "      <td>2</td>\n",
       "    </tr>\n",
       "    <tr>\n",
       "      <th>1</th>\n",
       "      <td>10.34</td>\n",
       "      <td>1.66</td>\n",
       "      <td>Male</td>\n",
       "      <td>No</td>\n",
       "      <td>Sun</td>\n",
       "      <td>Dinner</td>\n",
       "      <td>3</td>\n",
       "    </tr>\n",
       "    <tr>\n",
       "      <th>2</th>\n",
       "      <td>21.01</td>\n",
       "      <td>3.50</td>\n",
       "      <td>Male</td>\n",
       "      <td>No</td>\n",
       "      <td>Sun</td>\n",
       "      <td>Dinner</td>\n",
       "      <td>3</td>\n",
       "    </tr>\n",
       "    <tr>\n",
       "      <th>3</th>\n",
       "      <td>23.68</td>\n",
       "      <td>3.31</td>\n",
       "      <td>Male</td>\n",
       "      <td>No</td>\n",
       "      <td>Sun</td>\n",
       "      <td>Dinner</td>\n",
       "      <td>2</td>\n",
       "    </tr>\n",
       "    <tr>\n",
       "      <th>4</th>\n",
       "      <td>24.59</td>\n",
       "      <td>3.61</td>\n",
       "      <td>Female</td>\n",
       "      <td>No</td>\n",
       "      <td>Sun</td>\n",
       "      <td>Dinner</td>\n",
       "      <td>4</td>\n",
       "    </tr>\n",
       "    <tr>\n",
       "      <th>...</th>\n",
       "      <td>...</td>\n",
       "      <td>...</td>\n",
       "      <td>...</td>\n",
       "      <td>...</td>\n",
       "      <td>...</td>\n",
       "      <td>...</td>\n",
       "      <td>...</td>\n",
       "    </tr>\n",
       "    <tr>\n",
       "      <th>239</th>\n",
       "      <td>29.03</td>\n",
       "      <td>5.92</td>\n",
       "      <td>Male</td>\n",
       "      <td>No</td>\n",
       "      <td>Sat</td>\n",
       "      <td>Dinner</td>\n",
       "      <td>3</td>\n",
       "    </tr>\n",
       "    <tr>\n",
       "      <th>240</th>\n",
       "      <td>27.18</td>\n",
       "      <td>2.00</td>\n",
       "      <td>Female</td>\n",
       "      <td>Yes</td>\n",
       "      <td>Sat</td>\n",
       "      <td>Dinner</td>\n",
       "      <td>2</td>\n",
       "    </tr>\n",
       "    <tr>\n",
       "      <th>241</th>\n",
       "      <td>22.67</td>\n",
       "      <td>2.00</td>\n",
       "      <td>Male</td>\n",
       "      <td>Yes</td>\n",
       "      <td>Sat</td>\n",
       "      <td>Dinner</td>\n",
       "      <td>2</td>\n",
       "    </tr>\n",
       "    <tr>\n",
       "      <th>242</th>\n",
       "      <td>17.82</td>\n",
       "      <td>1.75</td>\n",
       "      <td>Male</td>\n",
       "      <td>No</td>\n",
       "      <td>Sat</td>\n",
       "      <td>Dinner</td>\n",
       "      <td>2</td>\n",
       "    </tr>\n",
       "    <tr>\n",
       "      <th>243</th>\n",
       "      <td>18.78</td>\n",
       "      <td>3.00</td>\n",
       "      <td>Female</td>\n",
       "      <td>No</td>\n",
       "      <td>Thur</td>\n",
       "      <td>Dinner</td>\n",
       "      <td>2</td>\n",
       "    </tr>\n",
       "  </tbody>\n",
       "</table>\n",
       "<p>244 rows × 7 columns</p>\n",
       "</div>"
      ],
      "text/plain": [
       "     total_bill   tip     sex smoker   day    time  size\n",
       "0         16.99  1.01  Female     No   Sun  Dinner     2\n",
       "1         10.34  1.66    Male     No   Sun  Dinner     3\n",
       "2         21.01  3.50    Male     No   Sun  Dinner     3\n",
       "3         23.68  3.31    Male     No   Sun  Dinner     2\n",
       "4         24.59  3.61  Female     No   Sun  Dinner     4\n",
       "..          ...   ...     ...    ...   ...     ...   ...\n",
       "239       29.03  5.92    Male     No   Sat  Dinner     3\n",
       "240       27.18  2.00  Female    Yes   Sat  Dinner     2\n",
       "241       22.67  2.00    Male    Yes   Sat  Dinner     2\n",
       "242       17.82  1.75    Male     No   Sat  Dinner     2\n",
       "243       18.78  3.00  Female     No  Thur  Dinner     2\n",
       "\n",
       "[244 rows x 7 columns]"
      ]
     },
     "execution_count": 162,
     "metadata": {},
     "output_type": "execute_result"
    }
   ],
   "source": [
    "tip_df=sns.load_dataset('tips')\n",
    "tip_df"
   ]
  },
  {
   "cell_type": "code",
   "execution_count": 163,
   "metadata": {},
   "outputs": [
    {
     "data": {
      "text/plain": [
       "0      1.01\n",
       "1      1.66\n",
       "2      3.50\n",
       "3      3.31\n",
       "4      3.61\n",
       "       ... \n",
       "239    5.92\n",
       "240    2.00\n",
       "241    2.00\n",
       "242    1.75\n",
       "243    3.00\n",
       "Name: tip, Length: 244, dtype: float64"
      ]
     },
     "execution_count": 163,
     "metadata": {},
     "output_type": "execute_result"
    }
   ],
   "source": [
    "#tip_df['tip']是series，带索引\n",
    "tip_df['tip']"
   ]
  },
  {
   "cell_type": "code",
   "execution_count": 164,
   "metadata": {},
   "outputs": [
    {
     "data": {
      "text/plain": [
       "array([ 1.01,  1.66,  3.5 ,  3.31,  3.61,  4.71,  2.  ,  3.12,  1.96,\n",
       "        3.23,  1.71,  5.  ,  1.57,  3.  ,  3.02,  3.92,  1.67,  3.71,\n",
       "        3.5 ,  3.35,  4.08,  2.75,  2.23,  7.58,  3.18,  2.34,  2.  ,\n",
       "        2.  ,  4.3 ,  3.  ,  1.45,  2.5 ,  3.  ,  2.45,  3.27,  3.6 ,\n",
       "        2.  ,  3.07,  2.31,  5.  ,  2.24,  2.54,  3.06,  1.32,  5.6 ,\n",
       "        3.  ,  5.  ,  6.  ,  2.05,  3.  ,  2.5 ,  2.6 ,  5.2 ,  1.56,\n",
       "        4.34,  3.51,  3.  ,  1.5 ,  1.76,  6.73,  3.21,  2.  ,  1.98,\n",
       "        3.76,  2.64,  3.15,  2.47,  1.  ,  2.01,  2.09,  1.97,  3.  ,\n",
       "        3.14,  5.  ,  2.2 ,  1.25,  3.08,  4.  ,  3.  ,  2.71,  3.  ,\n",
       "        3.4 ,  1.83,  5.  ,  2.03,  5.17,  2.  ,  4.  ,  5.85,  3.  ,\n",
       "        3.  ,  3.5 ,  1.  ,  4.3 ,  3.25,  4.73,  4.  ,  1.5 ,  3.  ,\n",
       "        1.5 ,  2.5 ,  3.  ,  2.5 ,  3.48,  4.08,  1.64,  4.06,  4.29,\n",
       "        3.76,  4.  ,  3.  ,  1.  ,  4.  ,  2.55,  4.  ,  3.5 ,  5.07,\n",
       "        1.5 ,  1.8 ,  2.92,  2.31,  1.68,  2.5 ,  2.  ,  2.52,  4.2 ,\n",
       "        1.48,  2.  ,  2.  ,  2.18,  1.5 ,  2.83,  1.5 ,  2.  ,  3.25,\n",
       "        1.25,  2.  ,  2.  ,  2.  ,  2.75,  3.5 ,  6.7 ,  5.  ,  5.  ,\n",
       "        2.3 ,  1.5 ,  1.36,  1.63,  1.73,  2.  ,  2.5 ,  2.  ,  2.74,\n",
       "        2.  ,  2.  ,  5.14,  5.  ,  3.75,  2.61,  2.  ,  3.5 ,  2.5 ,\n",
       "        2.  ,  2.  ,  3.  ,  3.48,  2.24,  4.5 ,  1.61,  2.  , 10.  ,\n",
       "        3.16,  5.15,  3.18,  4.  ,  3.11,  2.  ,  2.  ,  4.  ,  3.55,\n",
       "        3.68,  5.65,  3.5 ,  6.5 ,  3.  ,  5.  ,  3.5 ,  2.  ,  3.5 ,\n",
       "        4.  ,  1.5 ,  4.19,  2.56,  2.02,  4.  ,  1.44,  2.  ,  5.  ,\n",
       "        2.  ,  2.  ,  4.  ,  2.01,  2.  ,  2.5 ,  4.  ,  3.23,  3.41,\n",
       "        3.  ,  2.03,  2.23,  2.  ,  5.16,  9.  ,  2.5 ,  6.5 ,  1.1 ,\n",
       "        3.  ,  1.5 ,  1.44,  3.09,  2.2 ,  3.48,  1.92,  3.  ,  1.58,\n",
       "        2.5 ,  2.  ,  3.  ,  2.72,  2.88,  2.  ,  3.  ,  3.39,  1.47,\n",
       "        3.  ,  1.25,  1.  ,  1.17,  4.67,  5.92,  2.  ,  2.  ,  1.75,\n",
       "        3.  ])"
      ]
     },
     "execution_count": 164,
     "metadata": {},
     "output_type": "execute_result"
    }
   ],
   "source": [
    "tip=tip_df['tip'].values\n",
    "tip"
   ]
  },
  {
   "cell_type": "code",
   "execution_count": 165,
   "metadata": {},
   "outputs": [
    {
     "data": {
      "text/plain": [
       "array([16.99, 10.34, 21.01, 23.68, 24.59, 25.29,  8.77, 26.88, 15.04,\n",
       "       14.78, 10.27, 35.26, 15.42, 18.43, 14.83, 21.58, 10.33, 16.29,\n",
       "       16.97, 20.65, 17.92, 20.29, 15.77, 39.42, 19.82, 17.81, 13.37,\n",
       "       12.69, 21.7 , 19.65,  9.55, 18.35, 15.06, 20.69, 17.78, 24.06,\n",
       "       16.31, 16.93, 18.69, 31.27, 16.04, 17.46, 13.94,  9.68, 30.4 ,\n",
       "       18.29, 22.23, 32.4 , 28.55, 18.04, 12.54, 10.29, 34.81,  9.94,\n",
       "       25.56, 19.49, 38.01, 26.41, 11.24, 48.27, 20.29, 13.81, 11.02,\n",
       "       18.29, 17.59, 20.08, 16.45,  3.07, 20.23, 15.01, 12.02, 17.07,\n",
       "       26.86, 25.28, 14.73, 10.51, 17.92, 27.2 , 22.76, 17.29, 19.44,\n",
       "       16.66, 10.07, 32.68, 15.98, 34.83, 13.03, 18.28, 24.71, 21.16,\n",
       "       28.97, 22.49,  5.75, 16.32, 22.75, 40.17, 27.28, 12.03, 21.01,\n",
       "       12.46, 11.35, 15.38, 44.3 , 22.42, 20.92, 15.36, 20.49, 25.21,\n",
       "       18.24, 14.31, 14.  ,  7.25, 38.07, 23.95, 25.71, 17.31, 29.93,\n",
       "       10.65, 12.43, 24.08, 11.69, 13.42, 14.26, 15.95, 12.48, 29.8 ,\n",
       "        8.52, 14.52, 11.38, 22.82, 19.08, 20.27, 11.17, 12.26, 18.26,\n",
       "        8.51, 10.33, 14.15, 16.  , 13.16, 17.47, 34.3 , 41.19, 27.05,\n",
       "       16.43,  8.35, 18.64, 11.87,  9.78,  7.51, 14.07, 13.13, 17.26,\n",
       "       24.55, 19.77, 29.85, 48.17, 25.  , 13.39, 16.49, 21.5 , 12.66,\n",
       "       16.21, 13.81, 17.51, 24.52, 20.76, 31.71, 10.59, 10.63, 50.81,\n",
       "       15.81,  7.25, 31.85, 16.82, 32.9 , 17.89, 14.48,  9.6 , 34.63,\n",
       "       34.65, 23.33, 45.35, 23.17, 40.55, 20.69, 20.9 , 30.46, 18.15,\n",
       "       23.1 , 15.69, 19.81, 28.44, 15.48, 16.58,  7.56, 10.34, 43.11,\n",
       "       13.  , 13.51, 18.71, 12.74, 13.  , 16.4 , 20.53, 16.47, 26.59,\n",
       "       38.73, 24.27, 12.76, 30.06, 25.89, 48.33, 13.27, 28.17, 12.9 ,\n",
       "       28.15, 11.59,  7.74, 30.14, 12.16, 13.42,  8.58, 15.98, 13.42,\n",
       "       16.27, 10.09, 20.45, 13.28, 22.12, 24.01, 15.69, 11.61, 10.77,\n",
       "       15.53, 10.07, 12.6 , 32.83, 35.83, 29.03, 27.18, 22.67, 17.82,\n",
       "       18.78])"
      ]
     },
     "execution_count": 165,
     "metadata": {},
     "output_type": "execute_result"
    }
   ],
   "source": [
    "bill=tip_df['total_bill'].values\n",
    "bill"
   ]
  },
  {
   "cell_type": "code",
   "execution_count": 166,
   "metadata": {},
   "outputs": [
    {
     "data": {
      "text/plain": [
       "array([0.05944673, 0.16054159, 0.16658734, 0.13978041, 0.14680765,\n",
       "       0.18623962, 0.22805017, 0.11607143, 0.13031915, 0.21853857,\n",
       "       0.16650438, 0.14180374, 0.10181582, 0.16277808, 0.20364127,\n",
       "       0.18164968, 0.16166505, 0.22774708, 0.20624632, 0.1622276 ,\n",
       "       0.22767857, 0.13553475, 0.14140774, 0.19228818, 0.160444  ,\n",
       "       0.13138686, 0.14958863, 0.15760441, 0.19815668, 0.15267176,\n",
       "       0.15183246, 0.13623978, 0.19920319, 0.11841469, 0.18391451,\n",
       "       0.14962594, 0.12262416, 0.18133491, 0.12359551, 0.15989767,\n",
       "       0.13965087, 0.14547537, 0.2195122 , 0.13636364, 0.18421053,\n",
       "       0.16402406, 0.22492128, 0.18518519, 0.07180385, 0.16629712,\n",
       "       0.19936204, 0.2526725 , 0.14938236, 0.15694165, 0.16979656,\n",
       "       0.18009236, 0.0789266 , 0.05679667, 0.15658363, 0.13942407,\n",
       "       0.15820601, 0.14482259, 0.17967332, 0.20557682, 0.15008528,\n",
       "       0.15687251, 0.15015198, 0.3257329 , 0.09935739, 0.13924051,\n",
       "       0.16389351, 0.17574692, 0.11690246, 0.19778481, 0.14935506,\n",
       "       0.11893435, 0.171875  , 0.14705882, 0.13181019, 0.156738  ,\n",
       "       0.15432099, 0.20408163, 0.1817279 , 0.15299878, 0.12703379,\n",
       "       0.14843526, 0.15349194, 0.21881838, 0.23674626, 0.14177694,\n",
       "       0.1035554 , 0.15562472, 0.17391304, 0.26348039, 0.14285714,\n",
       "       0.11774956, 0.14662757, 0.12468828, 0.14278915, 0.12038523,\n",
       "       0.22026432, 0.19505852, 0.05643341, 0.15521855, 0.19502868,\n",
       "       0.10677083, 0.19814544, 0.17017057, 0.20614035, 0.27952481,\n",
       "       0.21428571, 0.13793103, 0.10506961, 0.10647182, 0.15558149,\n",
       "       0.20219526, 0.16939526, 0.14084507, 0.14481094, 0.12126246,\n",
       "       0.19760479, 0.12518629, 0.17531557, 0.12539185, 0.20192308,\n",
       "       0.1409396 , 0.17370892, 0.13774105, 0.17574692, 0.09553024,\n",
       "       0.07861635, 0.13961519, 0.13428827, 0.16313214, 0.17798467,\n",
       "       0.14688602, 0.19361084, 0.14134276, 0.125     , 0.20896657,\n",
       "       0.20034345, 0.19533528, 0.12138869, 0.18484288, 0.13998783,\n",
       "       0.17964072, 0.07296137, 0.13732098, 0.17689162, 0.26631158,\n",
       "       0.17768301, 0.15232292, 0.15874855, 0.0814664 , 0.10116338,\n",
       "       0.1721943 , 0.10379905, 0.15      , 0.19492158, 0.12128563,\n",
       "       0.1627907 , 0.19747235, 0.12338063, 0.14482259, 0.17133067,\n",
       "       0.14192496, 0.10789981, 0.14191107, 0.15203022, 0.18814675,\n",
       "       0.19681165, 0.1998735 , 0.71034483, 0.09984301, 0.23781213,\n",
       "       0.09452888, 0.1117943 , 0.13812155, 0.41666667, 0.10251227,\n",
       "       0.10620491, 0.24217745, 0.07717751, 0.28053517, 0.07398274,\n",
       "       0.24166264, 0.16746411, 0.06565988, 0.19283747, 0.17316017,\n",
       "       0.09560229, 0.21150934, 0.09001406, 0.13049096, 0.24125452,\n",
       "       0.19047619, 0.1934236 , 0.11598237, 0.15384615, 0.14803849,\n",
       "       0.21378942, 0.1577708 , 0.15384615, 0.15243902, 0.19483682,\n",
       "       0.19611415, 0.1282437 , 0.07745933, 0.08364236, 0.17476489,\n",
       "       0.0665336 , 0.19930475, 0.18621974, 0.18839488, 0.23074192,\n",
       "       0.08527132, 0.10657194, 0.12942192, 0.18604651, 0.10252157,\n",
       "       0.18092105, 0.25931446, 0.22377622, 0.18773467, 0.11773472,\n",
       "       0.15365704, 0.19821606, 0.14669927, 0.20481928, 0.13019892,\n",
       "       0.08329863, 0.19120459, 0.29198966, 0.13649025, 0.1931745 ,\n",
       "       0.12413108, 0.07936508, 0.03563814, 0.13033771, 0.20392697,\n",
       "       0.07358352, 0.08822232, 0.09820426, 0.15974441])"
      ]
     },
     "execution_count": 166,
     "metadata": {},
     "output_type": "execute_result"
    }
   ],
   "source": [
    "tip/bill"
   ]
  },
  {
   "cell_type": "code",
   "execution_count": 167,
   "metadata": {},
   "outputs": [
    {
     "name": "stdout",
     "output_type": "stream",
     "text": [
      "2.99827868852459\n",
      "2.99827868852459\n"
     ]
    }
   ],
   "source": [
    "print(tip.mean())\n",
    "print(np.mean(tip))"
   ]
  },
  {
   "cell_type": "code",
   "execution_count": 168,
   "metadata": {},
   "outputs": [
    {
     "data": {
      "text/plain": [
       "['Dinner', 'Dinner', 'Dinner', 'Dinner', 'Dinner', ..., 'Dinner', 'Dinner', 'Dinner', 'Dinner', 'Dinner']\n",
       "Length: 244\n",
       "Categories (2, object): ['Lunch', 'Dinner']"
      ]
     },
     "execution_count": 168,
     "metadata": {},
     "output_type": "execute_result"
    }
   ],
   "source": [
    "time=tip_df['time'].values\n",
    "time"
   ]
  },
  {
   "cell_type": "code",
   "execution_count": 169,
   "metadata": {},
   "outputs": [
    {
     "data": {
      "text/plain": [
       "array([ True,  True,  True,  True,  True,  True,  True,  True,  True,\n",
       "        True,  True,  True,  True,  True,  True,  True,  True,  True,\n",
       "        True,  True,  True,  True,  True,  True,  True,  True,  True,\n",
       "        True,  True,  True,  True,  True,  True,  True,  True,  True,\n",
       "        True,  True,  True,  True,  True,  True,  True,  True,  True,\n",
       "        True,  True,  True,  True,  True,  True,  True,  True,  True,\n",
       "        True,  True,  True,  True,  True,  True,  True,  True,  True,\n",
       "        True,  True,  True,  True,  True,  True,  True,  True,  True,\n",
       "        True,  True,  True,  True,  True, False, False, False, False,\n",
       "       False, False, False, False, False, False, False, False, False,\n",
       "        True,  True,  True,  True,  True,  True,  True,  True,  True,\n",
       "        True,  True,  True,  True,  True,  True,  True,  True,  True,\n",
       "        True,  True,  True,  True,  True,  True,  True,  True,  True,\n",
       "       False, False, False, False, False, False, False, False, False,\n",
       "       False, False, False, False, False, False, False, False, False,\n",
       "       False, False, False, False, False, False, False, False, False,\n",
       "       False, False, False, False, False, False,  True,  True,  True,\n",
       "        True,  True,  True,  True,  True,  True,  True,  True,  True,\n",
       "        True,  True,  True,  True,  True,  True,  True,  True,  True,\n",
       "        True,  True,  True,  True,  True,  True,  True,  True,  True,\n",
       "        True,  True,  True,  True,  True,  True,  True,  True,  True,\n",
       "        True,  True, False, False, False, False, False, False, False,\n",
       "       False, False, False, False, False, False, False, False,  True,\n",
       "        True,  True,  True,  True,  True,  True,  True,  True,  True,\n",
       "        True,  True,  True,  True, False, False, False, False, False,\n",
       "       False, False,  True,  True,  True,  True,  True,  True,  True,\n",
       "        True,  True,  True,  True,  True,  True,  True,  True,  True,\n",
       "        True])"
      ]
     },
     "execution_count": 169,
     "metadata": {},
     "output_type": "execute_result"
    }
   ],
   "source": [
    "time=='Dinner'"
   ]
  },
  {
   "cell_type": "code",
   "execution_count": 170,
   "metadata": {},
   "outputs": [
    {
     "data": {
      "text/plain": [
       "0.7213114754098361"
      ]
     },
     "execution_count": 170,
     "metadata": {},
     "output_type": "execute_result"
    }
   ],
   "source": [
    "(time=='Dinner').sum()/time.size"
   ]
  },
  {
   "cell_type": "markdown",
   "metadata": {},
   "source": [
    "### 3.2 NumPy快速运算"
   ]
  },
  {
   "cell_type": "markdown",
   "metadata": {},
   "source": [
    "#### 数学运算"
   ]
  },
  {
   "cell_type": "code",
   "execution_count": 171,
   "metadata": {},
   "outputs": [
    {
     "data": {
      "text/plain": [
       "array([ 1.,  2.,  3.,  4.,  5.,  6.,  7.,  8.,  9., 10., 11., 12., 13.,\n",
       "       14., 15., 16., 17., 18., 19., 20., 21., 22., 23., 24., 25., 26.,\n",
       "       27., 28., 29., 30., 31., 32., 33., 34., 35., 36., 37., 38., 39.,\n",
       "       40., 41., 42., 43., 44., 45., 46., 47., 48., 49., 50.])"
      ]
     },
     "execution_count": 171,
     "metadata": {},
     "output_type": "execute_result"
    }
   ],
   "source": [
    "x=np.linspace(1,50,50)\n",
    "x"
   ]
  },
  {
   "cell_type": "code",
   "execution_count": 172,
   "metadata": {},
   "outputs": [
    {
     "data": {
      "text/plain": [
       "array([ 1.95090322e-01,  3.82683432e-01,  5.55570233e-01,  7.07106781e-01,\n",
       "        8.31469612e-01,  9.23879533e-01,  9.80785280e-01,  1.00000000e+00,\n",
       "        9.80785280e-01,  9.23879533e-01,  8.31469612e-01,  7.07106781e-01,\n",
       "        5.55570233e-01,  3.82683432e-01,  1.95090322e-01,  1.22464680e-16,\n",
       "       -1.95090322e-01, -3.82683432e-01, -5.55570233e-01, -7.07106781e-01,\n",
       "       -8.31469612e-01, -9.23879533e-01, -9.80785280e-01, -1.00000000e+00,\n",
       "       -9.80785280e-01, -9.23879533e-01, -8.31469612e-01, -7.07106781e-01,\n",
       "       -5.55570233e-01, -3.82683432e-01, -1.95090322e-01, -2.44929360e-16,\n",
       "        1.95090322e-01,  3.82683432e-01,  5.55570233e-01,  7.07106781e-01,\n",
       "        8.31469612e-01,  9.23879533e-01,  9.80785280e-01,  1.00000000e+00,\n",
       "        9.80785280e-01,  9.23879533e-01,  8.31469612e-01,  7.07106781e-01,\n",
       "        5.55570233e-01,  3.82683432e-01,  1.95090322e-01,  3.67394040e-16,\n",
       "       -1.95090322e-01, -3.82683432e-01])"
      ]
     },
     "execution_count": 172,
     "metadata": {},
     "output_type": "execute_result"
    }
   ],
   "source": [
    "y=np.sin(x*np.pi/16)\n",
    "y"
   ]
  },
  {
   "cell_type": "code",
   "execution_count": 173,
   "metadata": {},
   "outputs": [
    {
     "data": {
      "text/plain": [
       "array([1.000e+00, 4.000e+00, 9.000e+00, 1.600e+01, 2.500e+01, 3.600e+01,\n",
       "       4.900e+01, 6.400e+01, 8.100e+01, 1.000e+02, 1.210e+02, 1.440e+02,\n",
       "       1.690e+02, 1.960e+02, 2.250e+02, 2.560e+02, 2.890e+02, 3.240e+02,\n",
       "       3.610e+02, 4.000e+02, 4.410e+02, 4.840e+02, 5.290e+02, 5.760e+02,\n",
       "       6.250e+02, 6.760e+02, 7.290e+02, 7.840e+02, 8.410e+02, 9.000e+02,\n",
       "       9.610e+02, 1.024e+03, 1.089e+03, 1.156e+03, 1.225e+03, 1.296e+03,\n",
       "       1.369e+03, 1.444e+03, 1.521e+03, 1.600e+03, 1.681e+03, 1.764e+03,\n",
       "       1.849e+03, 1.936e+03, 2.025e+03, 2.116e+03, 2.209e+03, 2.304e+03,\n",
       "       2.401e+03, 2.500e+03])"
      ]
     },
     "execution_count": 173,
     "metadata": {},
     "output_type": "execute_result"
    }
   ],
   "source": [
    "#z=np.square(x)\n",
    "z=x**2\n",
    "z"
   ]
  },
  {
   "cell_type": "code",
   "execution_count": 174,
   "metadata": {},
   "outputs": [
    {
     "data": {
      "text/plain": [
       "[<matplotlib.lines.Line2D at 0x157ae0eae48>]"
      ]
     },
     "execution_count": 174,
     "metadata": {},
     "output_type": "execute_result"
    },
    {
     "data": {
      "image/png": "[encoded data removed]",
      "text/plain": [
       "<Figure size 432x288 with 1 Axes>"
      ]
     },
     "metadata": {
      "needs_background": "light"
     },
     "output_type": "display_data"
    }
   ],
   "source": [
    "plt.plot(x,y)"
   ]
  },
  {
   "cell_type": "code",
   "execution_count": 175,
   "metadata": {},
   "outputs": [
    {
     "data": {
      "text/plain": [
       "[<matplotlib.lines.Line2D at 0x157ae167408>]"
      ]
     },
     "execution_count": 175,
     "metadata": {},
     "output_type": "execute_result"
    },
    {
     "data": {
      "image/png": "[encoded data removed]",
      "text/plain": [
       "<Figure size 432x288 with 1 Axes>"
      ]
     },
     "metadata": {
      "needs_background": "light"
     },
     "output_type": "display_data"
    }
   ],
   "source": [
    "plt.plot(x,z)"
   ]
  },
  {
   "cell_type": "markdown",
   "metadata": {},
   "source": [
    "#### 线性代数（矩阵运算）"
   ]
  },
  {
   "cell_type": "code",
   "execution_count": 176,
   "metadata": {},
   "outputs": [
    {
     "name": "stdout",
     "output_type": "stream",
     "text": [
      "[[ 0  1  2  3]\n",
      " [ 4  5  6  7]\n",
      " [ 8  9 10 11]]\n",
      "[[1 4]\n",
      " [1 1]\n",
      " [3 2]\n",
      " [2 1]]\n"
     ]
    }
   ],
   "source": [
    "mat1=np.arange(12).reshape(3,4)\n",
    "print(mat1)\n",
    "mat2=np.random.randint(1,5,(4,2))\n",
    "print(mat2)"
   ]
  },
  {
   "cell_type": "code",
   "execution_count": 177,
   "metadata": {},
   "outputs": [
    {
     "ename": "ValueError",
     "evalue": "operands could not be broadcast together with shapes (3,4) (4,2) ",
     "output_type": "error",
     "traceback": [
      "\u001b[1;31m---------------------------------------------------------------------------\u001b[0m",
      "\u001b[1;31mValueError\u001b[0m                                Traceback (most recent call last)",
      "\u001b[1;32m<ipython-input-177-7f8120ac4c2a>\u001b[0m in \u001b[0;36m<module>\u001b[1;34m\u001b[0m\n\u001b[0;32m      1\u001b[0m \u001b[1;31m#注意：如果运行下面这行语句会报错\u001b[0m\u001b[1;33m\u001b[0m\u001b[1;33m\u001b[0m\u001b[1;33m\u001b[0m\u001b[0m\n\u001b[1;32m----> 2\u001b[1;33m \u001b[0mmat1\u001b[0m\u001b[1;33m*\u001b[0m\u001b[0mmat2\u001b[0m\u001b[1;33m\u001b[0m\u001b[1;33m\u001b[0m\u001b[0m\n\u001b[0m",
      "\u001b[1;31mValueError\u001b[0m: operands could not be broadcast together with shapes (3,4) (4,2) "
     ]
    }
   ],
   "source": [
    "#注意：如果运行下面这行语句会报错\n",
    "mat1*mat2"
   ]
  },
  {
   "cell_type": "code",
   "execution_count": 178,
   "metadata": {},
   "outputs": [
    {
     "data": {
      "text/plain": [
       "array([[13,  8],\n",
       "       [41, 40],\n",
       "       [69, 72]])"
      ]
     },
     "execution_count": 178,
     "metadata": {},
     "output_type": "execute_result"
    }
   ],
   "source": [
    "mat1.dot(mat2)\n",
    "#np.dot(mat1,mat2)\n",
    "#mat1@mat2"
   ]
  },
  {
   "cell_type": "code",
   "execution_count": 179,
   "metadata": {},
   "outputs": [
    {
     "name": "stdout",
     "output_type": "stream",
     "text": [
      "[[ 14  38  62]\n",
      " [ 38 126 214]\n",
      " [ 62 214 366]]\n",
      "[[ 80  92 104 116]\n",
      " [ 92 107 122 137]\n",
      " [104 122 140 158]\n",
      " [116 137 158 179]]\n"
     ]
    }
   ],
   "source": [
    "print(mat1@mat1.T)\n",
    "print(mat1.T@mat1)"
   ]
  },
  {
   "cell_type": "markdown",
   "metadata": {},
   "source": [
    "#### 统计运算"
   ]
  },
  {
   "cell_type": "code",
   "execution_count": 180,
   "metadata": {},
   "outputs": [
    {
     "data": {
      "text/html": [
       "<div>\n",
       "<style scoped>\n",
       "    .dataframe tbody tr th:only-of-type {\n",
       "        vertical-align: middle;\n",
       "    }\n",
       "\n",
       "    .dataframe tbody tr th {\n",
       "        vertical-align: top;\n",
       "    }\n",
       "\n",
       "    .dataframe thead th {\n",
       "        text-align: right;\n",
       "    }\n",
       "</style>\n",
       "<table border=\"1\" class=\"dataframe\">\n",
       "  <thead>\n",
       "    <tr style=\"text-align: right;\">\n",
       "      <th></th>\n",
       "      <th>sepal_length</th>\n",
       "      <th>sepal_width</th>\n",
       "      <th>petal_length</th>\n",
       "      <th>petal_width</th>\n",
       "      <th>species</th>\n",
       "    </tr>\n",
       "  </thead>\n",
       "  <tbody>\n",
       "    <tr>\n",
       "      <th>0</th>\n",
       "      <td>5.1</td>\n",
       "      <td>3.5</td>\n",
       "      <td>1.4</td>\n",
       "      <td>0.2</td>\n",
       "      <td>setosa</td>\n",
       "    </tr>\n",
       "    <tr>\n",
       "      <th>1</th>\n",
       "      <td>4.9</td>\n",
       "      <td>3.0</td>\n",
       "      <td>1.4</td>\n",
       "      <td>0.2</td>\n",
       "      <td>setosa</td>\n",
       "    </tr>\n",
       "    <tr>\n",
       "      <th>2</th>\n",
       "      <td>4.7</td>\n",
       "      <td>3.2</td>\n",
       "      <td>1.3</td>\n",
       "      <td>0.2</td>\n",
       "      <td>setosa</td>\n",
       "    </tr>\n",
       "    <tr>\n",
       "      <th>3</th>\n",
       "      <td>4.6</td>\n",
       "      <td>3.1</td>\n",
       "      <td>1.5</td>\n",
       "      <td>0.2</td>\n",
       "      <td>setosa</td>\n",
       "    </tr>\n",
       "    <tr>\n",
       "      <th>4</th>\n",
       "      <td>5.0</td>\n",
       "      <td>3.6</td>\n",
       "      <td>1.4</td>\n",
       "      <td>0.2</td>\n",
       "      <td>setosa</td>\n",
       "    </tr>\n",
       "    <tr>\n",
       "      <th>...</th>\n",
       "      <td>...</td>\n",
       "      <td>...</td>\n",
       "      <td>...</td>\n",
       "      <td>...</td>\n",
       "      <td>...</td>\n",
       "    </tr>\n",
       "    <tr>\n",
       "      <th>145</th>\n",
       "      <td>6.7</td>\n",
       "      <td>3.0</td>\n",
       "      <td>5.2</td>\n",
       "      <td>2.3</td>\n",
       "      <td>virginica</td>\n",
       "    </tr>\n",
       "    <tr>\n",
       "      <th>146</th>\n",
       "      <td>6.3</td>\n",
       "      <td>2.5</td>\n",
       "      <td>5.0</td>\n",
       "      <td>1.9</td>\n",
       "      <td>virginica</td>\n",
       "    </tr>\n",
       "    <tr>\n",
       "      <th>147</th>\n",
       "      <td>6.5</td>\n",
       "      <td>3.0</td>\n",
       "      <td>5.2</td>\n",
       "      <td>2.0</td>\n",
       "      <td>virginica</td>\n",
       "    </tr>\n",
       "    <tr>\n",
       "      <th>148</th>\n",
       "      <td>6.2</td>\n",
       "      <td>3.4</td>\n",
       "      <td>5.4</td>\n",
       "      <td>2.3</td>\n",
       "      <td>virginica</td>\n",
       "    </tr>\n",
       "    <tr>\n",
       "      <th>149</th>\n",
       "      <td>5.9</td>\n",
       "      <td>3.0</td>\n",
       "      <td>5.1</td>\n",
       "      <td>1.8</td>\n",
       "      <td>virginica</td>\n",
       "    </tr>\n",
       "  </tbody>\n",
       "</table>\n",
       "<p>150 rows × 5 columns</p>\n",
       "</div>"
      ],
      "text/plain": [
       "     sepal_length  sepal_width  petal_length  petal_width    species\n",
       "0             5.1          3.5           1.4          0.2     setosa\n",
       "1             4.9          3.0           1.4          0.2     setosa\n",
       "2             4.7          3.2           1.3          0.2     setosa\n",
       "3             4.6          3.1           1.5          0.2     setosa\n",
       "4             5.0          3.6           1.4          0.2     setosa\n",
       "..            ...          ...           ...          ...        ...\n",
       "145           6.7          3.0           5.2          2.3  virginica\n",
       "146           6.3          2.5           5.0          1.9  virginica\n",
       "147           6.5          3.0           5.2          2.0  virginica\n",
       "148           6.2          3.4           5.4          2.3  virginica\n",
       "149           5.9          3.0           5.1          1.8  virginica\n",
       "\n",
       "[150 rows x 5 columns]"
      ]
     },
     "execution_count": 180,
     "metadata": {},
     "output_type": "execute_result"
    }
   ],
   "source": [
    "iris_df=sns.load_dataset(\"iris\")\n",
    "iris_df"
   ]
  },
  {
   "cell_type": "code",
   "execution_count": 181,
   "metadata": {},
   "outputs": [
    {
     "data": {
      "text/plain": [
       "array([[5.1, 3.5, 1.4, 0.2],\n",
       "       [4.9, 3. , 1.4, 0.2],\n",
       "       [4.7, 3.2, 1.3, 0.2],\n",
       "       [4.6, 3.1, 1.5, 0.2],\n",
       "       [5. , 3.6, 1.4, 0.2],\n",
       "       [5.4, 3.9, 1.7, 0.4],\n",
       "       [4.6, 3.4, 1.4, 0.3],\n",
       "       [5. , 3.4, 1.5, 0.2],\n",
       "       [4.4, 2.9, 1.4, 0.2],\n",
       "       [4.9, 3.1, 1.5, 0.1],\n",
       "       [5.4, 3.7, 1.5, 0.2],\n",
       "       [4.8, 3.4, 1.6, 0.2],\n",
       "       [4.8, 3. , 1.4, 0.1],\n",
       "       [4.3, 3. , 1.1, 0.1],\n",
       "       [5.8, 4. , 1.2, 0.2],\n",
       "       [5.7, 4.4, 1.5, 0.4],\n",
       "       [5.4, 3.9, 1.3, 0.4],\n",
       "       [5.1, 3.5, 1.4, 0.3],\n",
       "       [5.7, 3.8, 1.7, 0.3],\n",
       "       [5.1, 3.8, 1.5, 0.3],\n",
       "       [5.4, 3.4, 1.7, 0.2],\n",
       "       [5.1, 3.7, 1.5, 0.4],\n",
       "       [4.6, 3.6, 1. , 0.2],\n",
       "       [5.1, 3.3, 1.7, 0.5],\n",
       "       [4.8, 3.4, 1.9, 0.2],\n",
       "       [5. , 3. , 1.6, 0.2],\n",
       "       [5. , 3.4, 1.6, 0.4],\n",
       "       [5.2, 3.5, 1.5, 0.2],\n",
       "       [5.2, 3.4, 1.4, 0.2],\n",
       "       [4.7, 3.2, 1.6, 0.2],\n",
       "       [4.8, 3.1, 1.6, 0.2],\n",
       "       [5.4, 3.4, 1.5, 0.4],\n",
       "       [5.2, 4.1, 1.5, 0.1],\n",
       "       [5.5, 4.2, 1.4, 0.2],\n",
       "       [4.9, 3.1, 1.5, 0.2],\n",
       "       [5. , 3.2, 1.2, 0.2],\n",
       "       [5.5, 3.5, 1.3, 0.2],\n",
       "       [4.9, 3.6, 1.4, 0.1],\n",
       "       [4.4, 3. , 1.3, 0.2],\n",
       "       [5.1, 3.4, 1.5, 0.2],\n",
       "       [5. , 3.5, 1.3, 0.3],\n",
       "       [4.5, 2.3, 1.3, 0.3],\n",
       "       [4.4, 3.2, 1.3, 0.2],\n",
       "       [5. , 3.5, 1.6, 0.6],\n",
       "       [5.1, 3.8, 1.9, 0.4],\n",
       "       [4.8, 3. , 1.4, 0.3],\n",
       "       [5.1, 3.8, 1.6, 0.2],\n",
       "       [4.6, 3.2, 1.4, 0.2],\n",
       "       [5.3, 3.7, 1.5, 0.2],\n",
       "       [5. , 3.3, 1.4, 0.2],\n",
       "       [7. , 3.2, 4.7, 1.4],\n",
       "       [6.4, 3.2, 4.5, 1.5],\n",
       "       [6.9, 3.1, 4.9, 1.5],\n",
       "       [5.5, 2.3, 4. , 1.3],\n",
       "       [6.5, 2.8, 4.6, 1.5],\n",
       "       [5.7, 2.8, 4.5, 1.3],\n",
       "       [6.3, 3.3, 4.7, 1.6],\n",
       "       [4.9, 2.4, 3.3, 1. ],\n",
       "       [6.6, 2.9, 4.6, 1.3],\n",
       "       [5.2, 2.7, 3.9, 1.4],\n",
       "       [5. , 2. , 3.5, 1. ],\n",
       "       [5.9, 3. , 4.2, 1.5],\n",
       "       [6. , 2.2, 4. , 1. ],\n",
       "       [6.1, 2.9, 4.7, 1.4],\n",
       "       [5.6, 2.9, 3.6, 1.3],\n",
       "       [6.7, 3.1, 4.4, 1.4],\n",
       "       [5.6, 3. , 4.5, 1.5],\n",
       "       [5.8, 2.7, 4.1, 1. ],\n",
       "       [6.2, 2.2, 4.5, 1.5],\n",
       "       [5.6, 2.5, 3.9, 1.1],\n",
       "       [5.9, 3.2, 4.8, 1.8],\n",
       "       [6.1, 2.8, 4. , 1.3],\n",
       "       [6.3, 2.5, 4.9, 1.5],\n",
       "       [6.1, 2.8, 4.7, 1.2],\n",
       "       [6.4, 2.9, 4.3, 1.3],\n",
       "       [6.6, 3. , 4.4, 1.4],\n",
       "       [6.8, 2.8, 4.8, 1.4],\n",
       "       [6.7, 3. , 5. , 1.7],\n",
       "       [6. , 2.9, 4.5, 1.5],\n",
       "       [5.7, 2.6, 3.5, 1. ],\n",
       "       [5.5, 2.4, 3.8, 1.1],\n",
       "       [5.5, 2.4, 3.7, 1. ],\n",
       "       [5.8, 2.7, 3.9, 1.2],\n",
       "       [6. , 2.7, 5.1, 1.6],\n",
       "       [5.4, 3. , 4.5, 1.5],\n",
       "       [6. , 3.4, 4.5, 1.6],\n",
       "       [6.7, 3.1, 4.7, 1.5],\n",
       "       [6.3, 2.3, 4.4, 1.3],\n",
       "       [5.6, 3. , 4.1, 1.3],\n",
       "       [5.5, 2.5, 4. , 1.3],\n",
       "       [5.5, 2.6, 4.4, 1.2],\n",
       "       [6.1, 3. , 4.6, 1.4],\n",
       "       [5.8, 2.6, 4. , 1.2],\n",
       "       [5. , 2.3, 3.3, 1. ],\n",
       "       [5.6, 2.7, 4.2, 1.3],\n",
       "       [5.7, 3. , 4.2, 1.2],\n",
       "       [5.7, 2.9, 4.2, 1.3],\n",
       "       [6.2, 2.9, 4.3, 1.3],\n",
       "       [5.1, 2.5, 3. , 1.1],\n",
       "       [5.7, 2.8, 4.1, 1.3],\n",
       "       [6.3, 3.3, 6. , 2.5],\n",
       "       [5.8, 2.7, 5.1, 1.9],\n",
       "       [7.1, 3. , 5.9, 2.1],\n",
       "       [6.3, 2.9, 5.6, 1.8],\n",
       "       [6.5, 3. , 5.8, 2.2],\n",
       "       [7.6, 3. , 6.6, 2.1],\n",
       "       [4.9, 2.5, 4.5, 1.7],\n",
       "       [7.3, 2.9, 6.3, 1.8],\n",
       "       [6.7, 2.5, 5.8, 1.8],\n",
       "       [7.2, 3.6, 6.1, 2.5],\n",
       "       [6.5, 3.2, 5.1, 2. ],\n",
       "       [6.4, 2.7, 5.3, 1.9],\n",
       "       [6.8, 3. , 5.5, 2.1],\n",
       "       [5.7, 2.5, 5. , 2. ],\n",
       "       [5.8, 2.8, 5.1, 2.4],\n",
       "       [6.4, 3.2, 5.3, 2.3],\n",
       "       [6.5, 3. , 5.5, 1.8],\n",
       "       [7.7, 3.8, 6.7, 2.2],\n",
       "       [7.7, 2.6, 6.9, 2.3],\n",
       "       [6. , 2.2, 5. , 1.5],\n",
       "       [6.9, 3.2, 5.7, 2.3],\n",
       "       [5.6, 2.8, 4.9, 2. ],\n",
       "       [7.7, 2.8, 6.7, 2. ],\n",
       "       [6.3, 2.7, 4.9, 1.8],\n",
       "       [6.7, 3.3, 5.7, 2.1],\n",
       "       [7.2, 3.2, 6. , 1.8],\n",
       "       [6.2, 2.8, 4.8, 1.8],\n",
       "       [6.1, 3. , 4.9, 1.8],\n",
       "       [6.4, 2.8, 5.6, 2.1],\n",
       "       [7.2, 3. , 5.8, 1.6],\n",
       "       [7.4, 2.8, 6.1, 1.9],\n",
       "       [7.9, 3.8, 6.4, 2. ],\n",
       "       [6.4, 2.8, 5.6, 2.2],\n",
       "       [6.3, 2.8, 5.1, 1.5],\n",
       "       [6.1, 2.6, 5.6, 1.4],\n",
       "       [7.7, 3. , 6.1, 2.3],\n",
       "       [6.3, 3.4, 5.6, 2.4],\n",
       "       [6.4, 3.1, 5.5, 1.8],\n",
       "       [6. , 3. , 4.8, 1.8],\n",
       "       [6.9, 3.1, 5.4, 2.1],\n",
       "       [6.7, 3.1, 5.6, 2.4],\n",
       "       [6.9, 3.1, 5.1, 2.3],\n",
       "       [5.8, 2.7, 5.1, 1.9],\n",
       "       [6.8, 3.2, 5.9, 2.3],\n",
       "       [6.7, 3.3, 5.7, 2.5],\n",
       "       [6.7, 3. , 5.2, 2.3],\n",
       "       [6.3, 2.5, 5. , 1.9],\n",
       "       [6.5, 3. , 5.2, 2. ],\n",
       "       [6.2, 3.4, 5.4, 2.3],\n",
       "       [5.9, 3. , 5.1, 1.8]])"
      ]
     },
     "execution_count": 181,
     "metadata": {},
     "output_type": "execute_result"
    }
   ],
   "source": [
    "data=iris_df.iloc[:,0:4].values\n",
    "data"
   ]
  },
  {
   "cell_type": "code",
   "execution_count": 182,
   "metadata": {},
   "outputs": [
    {
     "data": {
      "text/plain": [
       "2078.7"
      ]
     },
     "execution_count": 182,
     "metadata": {},
     "output_type": "execute_result"
    }
   ],
   "source": [
    "np.sum(data)"
   ]
  },
  {
   "cell_type": "code",
   "execution_count": 183,
   "metadata": {},
   "outputs": [
    {
     "data": {
      "text/plain": [
       "array([876.5, 458.6, 563.7, 179.9])"
      ]
     },
     "execution_count": 183,
     "metadata": {},
     "output_type": "execute_result"
    }
   ],
   "source": [
    "np.sum(data,axis=0)"
   ]
  },
  {
   "cell_type": "code",
   "execution_count": 184,
   "metadata": {},
   "outputs": [
    {
     "data": {
      "text/plain": [
       "array([10.2,  9.5,  9.4,  9.4, 10.2, 11.4,  9.7, 10.1,  8.9,  9.6, 10.8,\n",
       "       10. ,  9.3,  8.5, 11.2, 12. , 11. , 10.3, 11.5, 10.7, 10.7, 10.7,\n",
       "        9.4, 10.6, 10.3,  9.8, 10.4, 10.4, 10.2,  9.7,  9.7, 10.7, 10.9,\n",
       "       11.3,  9.7,  9.6, 10.5, 10. ,  8.9, 10.2, 10.1,  8.4,  9.1, 10.7,\n",
       "       11.2,  9.5, 10.7,  9.4, 10.7,  9.9, 16.3, 15.6, 16.4, 13.1, 15.4,\n",
       "       14.3, 15.9, 11.6, 15.4, 13.2, 11.5, 14.6, 13.2, 15.1, 13.4, 15.6,\n",
       "       14.6, 13.6, 14.4, 13.1, 15.7, 14.2, 15.2, 14.8, 14.9, 15.4, 15.8,\n",
       "       16.4, 14.9, 12.8, 12.8, 12.6, 13.6, 15.4, 14.4, 15.5, 16. , 14.3,\n",
       "       14. , 13.3, 13.7, 15.1, 13.6, 11.6, 13.8, 14.1, 14.1, 14.7, 11.7,\n",
       "       13.9, 18.1, 15.5, 18.1, 16.6, 17.5, 19.3, 13.6, 18.3, 16.8, 19.4,\n",
       "       16.8, 16.3, 17.4, 15.2, 16.1, 17.2, 16.8, 20.4, 19.5, 14.7, 18.1,\n",
       "       15.3, 19.2, 15.7, 17.8, 18.2, 15.6, 15.8, 16.9, 17.6, 18.2, 20.1,\n",
       "       17. , 15.7, 15.7, 19.1, 17.7, 16.8, 15.6, 17.5, 17.8, 17.4, 15.5,\n",
       "       18.2, 18.2, 17.2, 15.7, 16.7, 17.3, 15.8])"
      ]
     },
     "execution_count": 184,
     "metadata": {},
     "output_type": "execute_result"
    }
   ],
   "source": [
    "np.sum(data,axis=1)"
   ]
  },
  {
   "cell_type": "code",
   "execution_count": 185,
   "metadata": {},
   "outputs": [
    {
     "data": {
      "text/plain": [
       "array([[5.100e+00, 3.500e+00, 1.400e+00, 2.000e-01],\n",
       "       [1.000e+01, 6.500e+00, 2.800e+00, 4.000e-01],\n",
       "       [1.470e+01, 9.700e+00, 4.100e+00, 6.000e-01],\n",
       "       [1.930e+01, 1.280e+01, 5.600e+00, 8.000e-01],\n",
       "       [2.430e+01, 1.640e+01, 7.000e+00, 1.000e+00],\n",
       "       [2.970e+01, 2.030e+01, 8.700e+00, 1.400e+00],\n",
       "       [3.430e+01, 2.370e+01, 1.010e+01, 1.700e+00],\n",
       "       [3.930e+01, 2.710e+01, 1.160e+01, 1.900e+00],\n",
       "       [4.370e+01, 3.000e+01, 1.300e+01, 2.100e+00],\n",
       "       [4.860e+01, 3.310e+01, 1.450e+01, 2.200e+00],\n",
       "       [5.400e+01, 3.680e+01, 1.600e+01, 2.400e+00],\n",
       "       [5.880e+01, 4.020e+01, 1.760e+01, 2.600e+00],\n",
       "       [6.360e+01, 4.320e+01, 1.900e+01, 2.700e+00],\n",
       "       [6.790e+01, 4.620e+01, 2.010e+01, 2.800e+00],\n",
       "       [7.370e+01, 5.020e+01, 2.130e+01, 3.000e+00],\n",
       "       [7.940e+01, 5.460e+01, 2.280e+01, 3.400e+00],\n",
       "       [8.480e+01, 5.850e+01, 2.410e+01, 3.800e+00],\n",
       "       [8.990e+01, 6.200e+01, 2.550e+01, 4.100e+00],\n",
       "       [9.560e+01, 6.580e+01, 2.720e+01, 4.400e+00],\n",
       "       [1.007e+02, 6.960e+01, 2.870e+01, 4.700e+00],\n",
       "       [1.061e+02, 7.300e+01, 3.040e+01, 4.900e+00],\n",
       "       [1.112e+02, 7.670e+01, 3.190e+01, 5.300e+00],\n",
       "       [1.158e+02, 8.030e+01, 3.290e+01, 5.500e+00],\n",
       "       [1.209e+02, 8.360e+01, 3.460e+01, 6.000e+00],\n",
       "       [1.257e+02, 8.700e+01, 3.650e+01, 6.200e+00],\n",
       "       [1.307e+02, 9.000e+01, 3.810e+01, 6.400e+00],\n",
       "       [1.357e+02, 9.340e+01, 3.970e+01, 6.800e+00],\n",
       "       [1.409e+02, 9.690e+01, 4.120e+01, 7.000e+00],\n",
       "       [1.461e+02, 1.003e+02, 4.260e+01, 7.200e+00],\n",
       "       [1.508e+02, 1.035e+02, 4.420e+01, 7.400e+00],\n",
       "       [1.556e+02, 1.066e+02, 4.580e+01, 7.600e+00],\n",
       "       [1.610e+02, 1.100e+02, 4.730e+01, 8.000e+00],\n",
       "       [1.662e+02, 1.141e+02, 4.880e+01, 8.100e+00],\n",
       "       [1.717e+02, 1.183e+02, 5.020e+01, 8.300e+00],\n",
       "       [1.766e+02, 1.214e+02, 5.170e+01, 8.500e+00],\n",
       "       [1.816e+02, 1.246e+02, 5.290e+01, 8.700e+00],\n",
       "       [1.871e+02, 1.281e+02, 5.420e+01, 8.900e+00],\n",
       "       [1.920e+02, 1.317e+02, 5.560e+01, 9.000e+00],\n",
       "       [1.964e+02, 1.347e+02, 5.690e+01, 9.200e+00],\n",
       "       [2.015e+02, 1.381e+02, 5.840e+01, 9.400e+00],\n",
       "       [2.065e+02, 1.416e+02, 5.970e+01, 9.700e+00],\n",
       "       [2.110e+02, 1.439e+02, 6.100e+01, 1.000e+01],\n",
       "       [2.154e+02, 1.471e+02, 6.230e+01, 1.020e+01],\n",
       "       [2.204e+02, 1.506e+02, 6.390e+01, 1.080e+01],\n",
       "       [2.255e+02, 1.544e+02, 6.580e+01, 1.120e+01],\n",
       "       [2.303e+02, 1.574e+02, 6.720e+01, 1.150e+01],\n",
       "       [2.354e+02, 1.612e+02, 6.880e+01, 1.170e+01],\n",
       "       [2.400e+02, 1.644e+02, 7.020e+01, 1.190e+01],\n",
       "       [2.453e+02, 1.681e+02, 7.170e+01, 1.210e+01],\n",
       "       [2.503e+02, 1.714e+02, 7.310e+01, 1.230e+01],\n",
       "       [2.573e+02, 1.746e+02, 7.780e+01, 1.370e+01],\n",
       "       [2.637e+02, 1.778e+02, 8.230e+01, 1.520e+01],\n",
       "       [2.706e+02, 1.809e+02, 8.720e+01, 1.670e+01],\n",
       "       [2.761e+02, 1.832e+02, 9.120e+01, 1.800e+01],\n",
       "       [2.826e+02, 1.860e+02, 9.580e+01, 1.950e+01],\n",
       "       [2.883e+02, 1.888e+02, 1.003e+02, 2.080e+01],\n",
       "       [2.946e+02, 1.921e+02, 1.050e+02, 2.240e+01],\n",
       "       [2.995e+02, 1.945e+02, 1.083e+02, 2.340e+01],\n",
       "       [3.061e+02, 1.974e+02, 1.129e+02, 2.470e+01],\n",
       "       [3.113e+02, 2.001e+02, 1.168e+02, 2.610e+01],\n",
       "       [3.163e+02, 2.021e+02, 1.203e+02, 2.710e+01],\n",
       "       [3.222e+02, 2.051e+02, 1.245e+02, 2.860e+01],\n",
       "       [3.282e+02, 2.073e+02, 1.285e+02, 2.960e+01],\n",
       "       [3.343e+02, 2.102e+02, 1.332e+02, 3.100e+01],\n",
       "       [3.399e+02, 2.131e+02, 1.368e+02, 3.230e+01],\n",
       "       [3.466e+02, 2.162e+02, 1.412e+02, 3.370e+01],\n",
       "       [3.522e+02, 2.192e+02, 1.457e+02, 3.520e+01],\n",
       "       [3.580e+02, 2.219e+02, 1.498e+02, 3.620e+01],\n",
       "       [3.642e+02, 2.241e+02, 1.543e+02, 3.770e+01],\n",
       "       [3.698e+02, 2.266e+02, 1.582e+02, 3.880e+01],\n",
       "       [3.757e+02, 2.298e+02, 1.630e+02, 4.060e+01],\n",
       "       [3.818e+02, 2.326e+02, 1.670e+02, 4.190e+01],\n",
       "       [3.881e+02, 2.351e+02, 1.719e+02, 4.340e+01],\n",
       "       [3.942e+02, 2.379e+02, 1.766e+02, 4.460e+01],\n",
       "       [4.006e+02, 2.408e+02, 1.809e+02, 4.590e+01],\n",
       "       [4.072e+02, 2.438e+02, 1.853e+02, 4.730e+01],\n",
       "       [4.140e+02, 2.466e+02, 1.901e+02, 4.870e+01],\n",
       "       [4.207e+02, 2.496e+02, 1.951e+02, 5.040e+01],\n",
       "       [4.267e+02, 2.525e+02, 1.996e+02, 5.190e+01],\n",
       "       [4.324e+02, 2.551e+02, 2.031e+02, 5.290e+01],\n",
       "       [4.379e+02, 2.575e+02, 2.069e+02, 5.400e+01],\n",
       "       [4.434e+02, 2.599e+02, 2.106e+02, 5.500e+01],\n",
       "       [4.492e+02, 2.626e+02, 2.145e+02, 5.620e+01],\n",
       "       [4.552e+02, 2.653e+02, 2.196e+02, 5.780e+01],\n",
       "       [4.606e+02, 2.683e+02, 2.241e+02, 5.930e+01],\n",
       "       [4.666e+02, 2.717e+02, 2.286e+02, 6.090e+01],\n",
       "       [4.733e+02, 2.748e+02, 2.333e+02, 6.240e+01],\n",
       "       [4.796e+02, 2.771e+02, 2.377e+02, 6.370e+01],\n",
       "       [4.852e+02, 2.801e+02, 2.418e+02, 6.500e+01],\n",
       "       [4.907e+02, 2.826e+02, 2.458e+02, 6.630e+01],\n",
       "       [4.962e+02, 2.852e+02, 2.502e+02, 6.750e+01],\n",
       "       [5.023e+02, 2.882e+02, 2.548e+02, 6.890e+01],\n",
       "       [5.081e+02, 2.908e+02, 2.588e+02, 7.010e+01],\n",
       "       [5.131e+02, 2.931e+02, 2.621e+02, 7.110e+01],\n",
       "       [5.187e+02, 2.958e+02, 2.663e+02, 7.240e+01],\n",
       "       [5.244e+02, 2.988e+02, 2.705e+02, 7.360e+01],\n",
       "       [5.301e+02, 3.017e+02, 2.747e+02, 7.490e+01],\n",
       "       [5.363e+02, 3.046e+02, 2.790e+02, 7.620e+01],\n",
       "       [5.414e+02, 3.071e+02, 2.820e+02, 7.730e+01],\n",
       "       [5.471e+02, 3.099e+02, 2.861e+02, 7.860e+01],\n",
       "       [5.534e+02, 3.132e+02, 2.921e+02, 8.110e+01],\n",
       "       [5.592e+02, 3.159e+02, 2.972e+02, 8.300e+01],\n",
       "       [5.663e+02, 3.189e+02, 3.031e+02, 8.510e+01],\n",
       "       [5.726e+02, 3.218e+02, 3.087e+02, 8.690e+01],\n",
       "       [5.791e+02, 3.248e+02, 3.145e+02, 8.910e+01],\n",
       "       [5.867e+02, 3.278e+02, 3.211e+02, 9.120e+01],\n",
       "       [5.916e+02, 3.303e+02, 3.256e+02, 9.290e+01],\n",
       "       [5.989e+02, 3.332e+02, 3.319e+02, 9.470e+01],\n",
       "       [6.056e+02, 3.357e+02, 3.377e+02, 9.650e+01],\n",
       "       [6.128e+02, 3.393e+02, 3.438e+02, 9.900e+01],\n",
       "       [6.193e+02, 3.425e+02, 3.489e+02, 1.010e+02],\n",
       "       [6.257e+02, 3.452e+02, 3.542e+02, 1.029e+02],\n",
       "       [6.325e+02, 3.482e+02, 3.597e+02, 1.050e+02],\n",
       "       [6.382e+02, 3.507e+02, 3.647e+02, 1.070e+02],\n",
       "       [6.440e+02, 3.535e+02, 3.698e+02, 1.094e+02],\n",
       "       [6.504e+02, 3.567e+02, 3.751e+02, 1.117e+02],\n",
       "       [6.569e+02, 3.597e+02, 3.806e+02, 1.135e+02],\n",
       "       [6.646e+02, 3.635e+02, 3.873e+02, 1.157e+02],\n",
       "       [6.723e+02, 3.661e+02, 3.942e+02, 1.180e+02],\n",
       "       [6.783e+02, 3.683e+02, 3.992e+02, 1.195e+02],\n",
       "       [6.852e+02, 3.715e+02, 4.049e+02, 1.218e+02],\n",
       "       [6.908e+02, 3.743e+02, 4.098e+02, 1.238e+02],\n",
       "       [6.985e+02, 3.771e+02, 4.165e+02, 1.258e+02],\n",
       "       [7.048e+02, 3.798e+02, 4.214e+02, 1.276e+02],\n",
       "       [7.115e+02, 3.831e+02, 4.271e+02, 1.297e+02],\n",
       "       [7.187e+02, 3.863e+02, 4.331e+02, 1.315e+02],\n",
       "       [7.249e+02, 3.891e+02, 4.379e+02, 1.333e+02],\n",
       "       [7.310e+02, 3.921e+02, 4.428e+02, 1.351e+02],\n",
       "       [7.374e+02, 3.949e+02, 4.484e+02, 1.372e+02],\n",
       "       [7.446e+02, 3.979e+02, 4.542e+02, 1.388e+02],\n",
       "       [7.520e+02, 4.007e+02, 4.603e+02, 1.407e+02],\n",
       "       [7.599e+02, 4.045e+02, 4.667e+02, 1.427e+02],\n",
       "       [7.663e+02, 4.073e+02, 4.723e+02, 1.449e+02],\n",
       "       [7.726e+02, 4.101e+02, 4.774e+02, 1.464e+02],\n",
       "       [7.787e+02, 4.127e+02, 4.830e+02, 1.478e+02],\n",
       "       [7.864e+02, 4.157e+02, 4.891e+02, 1.501e+02],\n",
       "       [7.927e+02, 4.191e+02, 4.947e+02, 1.525e+02],\n",
       "       [7.991e+02, 4.222e+02, 5.002e+02, 1.543e+02],\n",
       "       [8.051e+02, 4.252e+02, 5.050e+02, 1.561e+02],\n",
       "       [8.120e+02, 4.283e+02, 5.104e+02, 1.582e+02],\n",
       "       [8.187e+02, 4.314e+02, 5.160e+02, 1.606e+02],\n",
       "       [8.256e+02, 4.345e+02, 5.211e+02, 1.629e+02],\n",
       "       [8.314e+02, 4.372e+02, 5.262e+02, 1.648e+02],\n",
       "       [8.382e+02, 4.404e+02, 5.321e+02, 1.671e+02],\n",
       "       [8.449e+02, 4.437e+02, 5.378e+02, 1.696e+02],\n",
       "       [8.516e+02, 4.467e+02, 5.430e+02, 1.719e+02],\n",
       "       [8.579e+02, 4.492e+02, 5.480e+02, 1.738e+02],\n",
       "       [8.644e+02, 4.522e+02, 5.532e+02, 1.758e+02],\n",
       "       [8.706e+02, 4.556e+02, 5.586e+02, 1.781e+02],\n",
       "       [8.765e+02, 4.586e+02, 5.637e+02, 1.799e+02]])"
      ]
     },
     "execution_count": 185,
     "metadata": {},
     "output_type": "execute_result"
    }
   ],
   "source": [
    "np.cumsum(data,axis=0)"
   ]
  },
  {
   "cell_type": "code",
   "execution_count": 186,
   "metadata": {},
   "outputs": [
    {
     "data": {
      "text/plain": [
       "array([[  5.1   ,  17.85  ,  24.99  ,   4.998 ],\n",
       "       [  4.9   ,  14.7   ,  20.58  ,   4.116 ],\n",
       "       [  4.7   ,  15.04  ,  19.552 ,   3.9104],\n",
       "       [  4.6   ,  14.26  ,  21.39  ,   4.278 ],\n",
       "       [  5.    ,  18.    ,  25.2   ,   5.04  ],\n",
       "       [  5.4   ,  21.06  ,  35.802 ,  14.3208],\n",
       "       [  4.6   ,  15.64  ,  21.896 ,   6.5688],\n",
       "       [  5.    ,  17.    ,  25.5   ,   5.1   ],\n",
       "       [  4.4   ,  12.76  ,  17.864 ,   3.5728],\n",
       "       [  4.9   ,  15.19  ,  22.785 ,   2.2785],\n",
       "       [  5.4   ,  19.98  ,  29.97  ,   5.994 ],\n",
       "       [  4.8   ,  16.32  ,  26.112 ,   5.2224],\n",
       "       [  4.8   ,  14.4   ,  20.16  ,   2.016 ],\n",
       "       [  4.3   ,  12.9   ,  14.19  ,   1.419 ],\n",
       "       [  5.8   ,  23.2   ,  27.84  ,   5.568 ],\n",
       "       [  5.7   ,  25.08  ,  37.62  ,  15.048 ],\n",
       "       [  5.4   ,  21.06  ,  27.378 ,  10.9512],\n",
       "       [  5.1   ,  17.85  ,  24.99  ,   7.497 ],\n",
       "       [  5.7   ,  21.66  ,  36.822 ,  11.0466],\n",
       "       [  5.1   ,  19.38  ,  29.07  ,   8.721 ],\n",
       "       [  5.4   ,  18.36  ,  31.212 ,   6.2424],\n",
       "       [  5.1   ,  18.87  ,  28.305 ,  11.322 ],\n",
       "       [  4.6   ,  16.56  ,  16.56  ,   3.312 ],\n",
       "       [  5.1   ,  16.83  ,  28.611 ,  14.3055],\n",
       "       [  4.8   ,  16.32  ,  31.008 ,   6.2016],\n",
       "       [  5.    ,  15.    ,  24.    ,   4.8   ],\n",
       "       [  5.    ,  17.    ,  27.2   ,  10.88  ],\n",
       "       [  5.2   ,  18.2   ,  27.3   ,   5.46  ],\n",
       "       [  5.2   ,  17.68  ,  24.752 ,   4.9504],\n",
       "       [  4.7   ,  15.04  ,  24.064 ,   4.8128],\n",
       "       [  4.8   ,  14.88  ,  23.808 ,   4.7616],\n",
       "       [  5.4   ,  18.36  ,  27.54  ,  11.016 ],\n",
       "       [  5.2   ,  21.32  ,  31.98  ,   3.198 ],\n",
       "       [  5.5   ,  23.1   ,  32.34  ,   6.468 ],\n",
       "       [  4.9   ,  15.19  ,  22.785 ,   4.557 ],\n",
       "       [  5.    ,  16.    ,  19.2   ,   3.84  ],\n",
       "       [  5.5   ,  19.25  ,  25.025 ,   5.005 ],\n",
       "       [  4.9   ,  17.64  ,  24.696 ,   2.4696],\n",
       "       [  4.4   ,  13.2   ,  17.16  ,   3.432 ],\n",
       "       [  5.1   ,  17.34  ,  26.01  ,   5.202 ],\n",
       "       [  5.    ,  17.5   ,  22.75  ,   6.825 ],\n",
       "       [  4.5   ,  10.35  ,  13.455 ,   4.0365],\n",
       "       [  4.4   ,  14.08  ,  18.304 ,   3.6608],\n",
       "       [  5.    ,  17.5   ,  28.    ,  16.8   ],\n",
       "       [  5.1   ,  19.38  ,  36.822 ,  14.7288],\n",
       "       [  4.8   ,  14.4   ,  20.16  ,   6.048 ],\n",
       "       [  5.1   ,  19.38  ,  31.008 ,   6.2016],\n",
       "       [  4.6   ,  14.72  ,  20.608 ,   4.1216],\n",
       "       [  5.3   ,  19.61  ,  29.415 ,   5.883 ],\n",
       "       [  5.    ,  16.5   ,  23.1   ,   4.62  ],\n",
       "       [  7.    ,  22.4   , 105.28  , 147.392 ],\n",
       "       [  6.4   ,  20.48  ,  92.16  , 138.24  ],\n",
       "       [  6.9   ,  21.39  , 104.811 , 157.2165],\n",
       "       [  5.5   ,  12.65  ,  50.6   ,  65.78  ],\n",
       "       [  6.5   ,  18.2   ,  83.72  , 125.58  ],\n",
       "       [  5.7   ,  15.96  ,  71.82  ,  93.366 ],\n",
       "       [  6.3   ,  20.79  ,  97.713 , 156.3408],\n",
       "       [  4.9   ,  11.76  ,  38.808 ,  38.808 ],\n",
       "       [  6.6   ,  19.14  ,  88.044 , 114.4572],\n",
       "       [  5.2   ,  14.04  ,  54.756 ,  76.6584],\n",
       "       [  5.    ,  10.    ,  35.    ,  35.    ],\n",
       "       [  5.9   ,  17.7   ,  74.34  , 111.51  ],\n",
       "       [  6.    ,  13.2   ,  52.8   ,  52.8   ],\n",
       "       [  6.1   ,  17.69  ,  83.143 , 116.4002],\n",
       "       [  5.6   ,  16.24  ,  58.464 ,  76.0032],\n",
       "       [  6.7   ,  20.77  ,  91.388 , 127.9432],\n",
       "       [  5.6   ,  16.8   ,  75.6   , 113.4   ],\n",
       "       [  5.8   ,  15.66  ,  64.206 ,  64.206 ],\n",
       "       [  6.2   ,  13.64  ,  61.38  ,  92.07  ],\n",
       "       [  5.6   ,  14.    ,  54.6   ,  60.06  ],\n",
       "       [  5.9   ,  18.88  ,  90.624 , 163.1232],\n",
       "       [  6.1   ,  17.08  ,  68.32  ,  88.816 ],\n",
       "       [  6.3   ,  15.75  ,  77.175 , 115.7625],\n",
       "       [  6.1   ,  17.08  ,  80.276 ,  96.3312],\n",
       "       [  6.4   ,  18.56  ,  79.808 , 103.7504],\n",
       "       [  6.6   ,  19.8   ,  87.12  , 121.968 ],\n",
       "       [  6.8   ,  19.04  ,  91.392 , 127.9488],\n",
       "       [  6.7   ,  20.1   , 100.5   , 170.85  ],\n",
       "       [  6.    ,  17.4   ,  78.3   , 117.45  ],\n",
       "       [  5.7   ,  14.82  ,  51.87  ,  51.87  ],\n",
       "       [  5.5   ,  13.2   ,  50.16  ,  55.176 ],\n",
       "       [  5.5   ,  13.2   ,  48.84  ,  48.84  ],\n",
       "       [  5.8   ,  15.66  ,  61.074 ,  73.2888],\n",
       "       [  6.    ,  16.2   ,  82.62  , 132.192 ],\n",
       "       [  5.4   ,  16.2   ,  72.9   , 109.35  ],\n",
       "       [  6.    ,  20.4   ,  91.8   , 146.88  ],\n",
       "       [  6.7   ,  20.77  ,  97.619 , 146.4285],\n",
       "       [  6.3   ,  14.49  ,  63.756 ,  82.8828],\n",
       "       [  5.6   ,  16.8   ,  68.88  ,  89.544 ],\n",
       "       [  5.5   ,  13.75  ,  55.    ,  71.5   ],\n",
       "       [  5.5   ,  14.3   ,  62.92  ,  75.504 ],\n",
       "       [  6.1   ,  18.3   ,  84.18  , 117.852 ],\n",
       "       [  5.8   ,  15.08  ,  60.32  ,  72.384 ],\n",
       "       [  5.    ,  11.5   ,  37.95  ,  37.95  ],\n",
       "       [  5.6   ,  15.12  ,  63.504 ,  82.5552],\n",
       "       [  5.7   ,  17.1   ,  71.82  ,  86.184 ],\n",
       "       [  5.7   ,  16.53  ,  69.426 ,  90.2538],\n",
       "       [  6.2   ,  17.98  ,  77.314 , 100.5082],\n",
       "       [  5.1   ,  12.75  ,  38.25  ,  42.075 ],\n",
       "       [  5.7   ,  15.96  ,  65.436 ,  85.0668],\n",
       "       [  6.3   ,  20.79  , 124.74  , 311.85  ],\n",
       "       [  5.8   ,  15.66  ,  79.866 , 151.7454],\n",
       "       [  7.1   ,  21.3   , 125.67  , 263.907 ],\n",
       "       [  6.3   ,  18.27  , 102.312 , 184.1616],\n",
       "       [  6.5   ,  19.5   , 113.1   , 248.82  ],\n",
       "       [  7.6   ,  22.8   , 150.48  , 316.008 ],\n",
       "       [  4.9   ,  12.25  ,  55.125 ,  93.7125],\n",
       "       [  7.3   ,  21.17  , 133.371 , 240.0678],\n",
       "       [  6.7   ,  16.75  ,  97.15  , 174.87  ],\n",
       "       [  7.2   ,  25.92  , 158.112 , 395.28  ],\n",
       "       [  6.5   ,  20.8   , 106.08  , 212.16  ],\n",
       "       [  6.4   ,  17.28  ,  91.584 , 174.0096],\n",
       "       [  6.8   ,  20.4   , 112.2   , 235.62  ],\n",
       "       [  5.7   ,  14.25  ,  71.25  , 142.5   ],\n",
       "       [  5.8   ,  16.24  ,  82.824 , 198.7776],\n",
       "       [  6.4   ,  20.48  , 108.544 , 249.6512],\n",
       "       [  6.5   ,  19.5   , 107.25  , 193.05  ],\n",
       "       [  7.7   ,  29.26  , 196.042 , 431.2924],\n",
       "       [  7.7   ,  20.02  , 138.138 , 317.7174],\n",
       "       [  6.    ,  13.2   ,  66.    ,  99.    ],\n",
       "       [  6.9   ,  22.08  , 125.856 , 289.4688],\n",
       "       [  5.6   ,  15.68  ,  76.832 , 153.664 ],\n",
       "       [  7.7   ,  21.56  , 144.452 , 288.904 ],\n",
       "       [  6.3   ,  17.01  ,  83.349 , 150.0282],\n",
       "       [  6.7   ,  22.11  , 126.027 , 264.6567],\n",
       "       [  7.2   ,  23.04  , 138.24  , 248.832 ],\n",
       "       [  6.2   ,  17.36  ,  83.328 , 149.9904],\n",
       "       [  6.1   ,  18.3   ,  89.67  , 161.406 ],\n",
       "       [  6.4   ,  17.92  , 100.352 , 210.7392],\n",
       "       [  7.2   ,  21.6   , 125.28  , 200.448 ],\n",
       "       [  7.4   ,  20.72  , 126.392 , 240.1448],\n",
       "       [  7.9   ,  30.02  , 192.128 , 384.256 ],\n",
       "       [  6.4   ,  17.92  , 100.352 , 220.7744],\n",
       "       [  6.3   ,  17.64  ,  89.964 , 134.946 ],\n",
       "       [  6.1   ,  15.86  ,  88.816 , 124.3424],\n",
       "       [  7.7   ,  23.1   , 140.91  , 324.093 ],\n",
       "       [  6.3   ,  21.42  , 119.952 , 287.8848],\n",
       "       [  6.4   ,  19.84  , 109.12  , 196.416 ],\n",
       "       [  6.    ,  18.    ,  86.4   , 155.52  ],\n",
       "       [  6.9   ,  21.39  , 115.506 , 242.5626],\n",
       "       [  6.7   ,  20.77  , 116.312 , 279.1488],\n",
       "       [  6.9   ,  21.39  , 109.089 , 250.9047],\n",
       "       [  5.8   ,  15.66  ,  79.866 , 151.7454],\n",
       "       [  6.8   ,  21.76  , 128.384 , 295.2832],\n",
       "       [  6.7   ,  22.11  , 126.027 , 315.0675],\n",
       "       [  6.7   ,  20.1   , 104.52  , 240.396 ],\n",
       "       [  6.3   ,  15.75  ,  78.75  , 149.625 ],\n",
       "       [  6.5   ,  19.5   , 101.4   , 202.8   ],\n",
       "       [  6.2   ,  21.08  , 113.832 , 261.8136],\n",
       "       [  5.9   ,  17.7   ,  90.27  , 162.486 ]])"
      ]
     },
     "execution_count": 186,
     "metadata": {},
     "output_type": "execute_result"
    }
   ],
   "source": [
    "np.cumprod(data,axis=1)"
   ]
  },
  {
   "cell_type": "code",
   "execution_count": 187,
   "metadata": {},
   "outputs": [
    {
     "data": {
      "text/plain": [
       "3.4644999999999997"
      ]
     },
     "execution_count": 187,
     "metadata": {},
     "output_type": "execute_result"
    }
   ],
   "source": [
    "np.mean(data)"
   ]
  },
  {
   "cell_type": "code",
   "execution_count": 188,
   "metadata": {},
   "outputs": [
    {
     "data": {
      "text/plain": [
       "array([5.84333333, 3.05733333, 3.758     , 1.19933333])"
      ]
     },
     "execution_count": 188,
     "metadata": {},
     "output_type": "execute_result"
    }
   ],
   "source": [
    "np.mean(data,axis=0)"
   ]
  },
  {
   "cell_type": "code",
   "execution_count": 189,
   "metadata": {},
   "outputs": [
    {
     "data": {
      "text/plain": [
       "array([2.55 , 2.375, 2.35 , 2.35 , 2.55 , 2.85 , 2.425, 2.525, 2.225,\n",
       "       2.4  , 2.7  , 2.5  , 2.325, 2.125, 2.8  , 3.   , 2.75 , 2.575,\n",
       "       2.875, 2.675, 2.675, 2.675, 2.35 , 2.65 , 2.575, 2.45 , 2.6  ,\n",
       "       2.6  , 2.55 , 2.425, 2.425, 2.675, 2.725, 2.825, 2.425, 2.4  ,\n",
       "       2.625, 2.5  , 2.225, 2.55 , 2.525, 2.1  , 2.275, 2.675, 2.8  ,\n",
       "       2.375, 2.675, 2.35 , 2.675, 2.475, 4.075, 3.9  , 4.1  , 3.275,\n",
       "       3.85 , 3.575, 3.975, 2.9  , 3.85 , 3.3  , 2.875, 3.65 , 3.3  ,\n",
       "       3.775, 3.35 , 3.9  , 3.65 , 3.4  , 3.6  , 3.275, 3.925, 3.55 ,\n",
       "       3.8  , 3.7  , 3.725, 3.85 , 3.95 , 4.1  , 3.725, 3.2  , 3.2  ,\n",
       "       3.15 , 3.4  , 3.85 , 3.6  , 3.875, 4.   , 3.575, 3.5  , 3.325,\n",
       "       3.425, 3.775, 3.4  , 2.9  , 3.45 , 3.525, 3.525, 3.675, 2.925,\n",
       "       3.475, 4.525, 3.875, 4.525, 4.15 , 4.375, 4.825, 3.4  , 4.575,\n",
       "       4.2  , 4.85 , 4.2  , 4.075, 4.35 , 3.8  , 4.025, 4.3  , 4.2  ,\n",
       "       5.1  , 4.875, 3.675, 4.525, 3.825, 4.8  , 3.925, 4.45 , 4.55 ,\n",
       "       3.9  , 3.95 , 4.225, 4.4  , 4.55 , 5.025, 4.25 , 3.925, 3.925,\n",
       "       4.775, 4.425, 4.2  , 3.9  , 4.375, 4.45 , 4.35 , 3.875, 4.55 ,\n",
       "       4.55 , 4.3  , 3.925, 4.175, 4.325, 3.95 ])"
      ]
     },
     "execution_count": 189,
     "metadata": {},
     "output_type": "execute_result"
    }
   ],
   "source": [
    "np.mean(data,axis=1)"
   ]
  },
  {
   "cell_type": "code",
   "execution_count": 190,
   "metadata": {},
   "outputs": [
    {
     "data": {
      "text/plain": [
       "3.896056416666667"
      ]
     },
     "execution_count": 190,
     "metadata": {},
     "output_type": "execute_result"
    }
   ],
   "source": [
    "np.var(data)"
   ]
  },
  {
   "cell_type": "code",
   "execution_count": 191,
   "metadata": {},
   "outputs": [
    {
     "name": "stdout",
     "output_type": "stream",
     "text": [
      "7.9\n",
      "0.1\n"
     ]
    }
   ],
   "source": [
    "print(np.max(data))\n",
    "print(np.min(data))"
   ]
  },
  {
   "cell_type": "code",
   "execution_count": 192,
   "metadata": {},
   "outputs": [
    {
     "data": {
      "text/plain": [
       "array([7.9, 4.4, 6.9, 2.5])"
      ]
     },
     "execution_count": 192,
     "metadata": {},
     "output_type": "execute_result"
    }
   ],
   "source": [
    "np.max(data,axis=0)"
   ]
  },
  {
   "cell_type": "code",
   "execution_count": 193,
   "metadata": {},
   "outputs": [
    {
     "data": {
      "text/plain": [
       "array([5.1, 4.9, 4.7, 4.6, 5. , 5.4, 4.6, 5. , 4.4, 4.9, 5.4, 4.8, 4.8,\n",
       "       4.3, 5.8, 5.7, 5.4, 5.1, 5.7, 5.1, 5.4, 5.1, 4.6, 5.1, 4.8, 5. ,\n",
       "       5. , 5.2, 5.2, 4.7, 4.8, 5.4, 5.2, 5.5, 4.9, 5. , 5.5, 4.9, 4.4,\n",
       "       5.1, 5. , 4.5, 4.4, 5. , 5.1, 4.8, 5.1, 4.6, 5.3, 5. , 7. , 6.4,\n",
       "       6.9, 5.5, 6.5, 5.7, 6.3, 4.9, 6.6, 5.2, 5. , 5.9, 6. , 6.1, 5.6,\n",
       "       6.7, 5.6, 5.8, 6.2, 5.6, 5.9, 6.1, 6.3, 6.1, 6.4, 6.6, 6.8, 6.7,\n",
       "       6. , 5.7, 5.5, 5.5, 5.8, 6. , 5.4, 6. , 6.7, 6.3, 5.6, 5.5, 5.5,\n",
       "       6.1, 5.8, 5. , 5.6, 5.7, 5.7, 6.2, 5.1, 5.7, 6.3, 5.8, 7.1, 6.3,\n",
       "       6.5, 7.6, 4.9, 7.3, 6.7, 7.2, 6.5, 6.4, 6.8, 5.7, 5.8, 6.4, 6.5,\n",
       "       7.7, 7.7, 6. , 6.9, 5.6, 7.7, 6.3, 6.7, 7.2, 6.2, 6.1, 6.4, 7.2,\n",
       "       7.4, 7.9, 6.4, 6.3, 6.1, 7.7, 6.3, 6.4, 6. , 6.9, 6.7, 6.9, 5.8,\n",
       "       6.8, 6.7, 6.7, 6.3, 6.5, 6.2, 5.9])"
      ]
     },
     "execution_count": 193,
     "metadata": {},
     "output_type": "execute_result"
    }
   ],
   "source": [
    "np.max(data,axis=1)"
   ]
  },
  {
   "cell_type": "code",
   "execution_count": null,
   "metadata": {},
   "outputs": [],
   "source": []
  },
  {
   "cell_type": "markdown",
   "metadata": {},
   "source": [
    "#### 条件运算"
   ]
  },
  {
   "cell_type": "code",
   "execution_count": 194,
   "metadata": {},
   "outputs": [
    {
     "data": {
      "text/plain": [
       "array([[6, 2, 2, 2],\n",
       "       [2, 2, 2, 2],\n",
       "       [2, 2, 2, 2],\n",
       "       [2, 2, 2, 2],\n",
       "       [2, 2, 2, 2],\n",
       "       [6, 2, 2, 2],\n",
       "       [2, 2, 2, 2],\n",
       "       [2, 2, 2, 2],\n",
       "       [2, 2, 2, 2],\n",
       "       [2, 2, 2, 2],\n",
       "       [6, 2, 2, 2],\n",
       "       [2, 2, 2, 2],\n",
       "       [2, 2, 2, 2],\n",
       "       [2, 2, 2, 2],\n",
       "       [6, 2, 2, 2],\n",
       "       [6, 2, 2, 2],\n",
       "       [6, 2, 2, 2],\n",
       "       [6, 2, 2, 2],\n",
       "       [6, 2, 2, 2],\n",
       "       [6, 2, 2, 2],\n",
       "       [6, 2, 2, 2],\n",
       "       [6, 2, 2, 2],\n",
       "       [2, 2, 2, 2],\n",
       "       [6, 2, 2, 2],\n",
       "       [2, 2, 2, 2],\n",
       "       [2, 2, 2, 2],\n",
       "       [2, 2, 2, 2],\n",
       "       [6, 2, 2, 2],\n",
       "       [6, 2, 2, 2],\n",
       "       [2, 2, 2, 2],\n",
       "       [2, 2, 2, 2],\n",
       "       [6, 2, 2, 2],\n",
       "       [6, 2, 2, 2],\n",
       "       [6, 2, 2, 2],\n",
       "       [2, 2, 2, 2],\n",
       "       [2, 2, 2, 2],\n",
       "       [6, 2, 2, 2],\n",
       "       [2, 2, 2, 2],\n",
       "       [2, 2, 2, 2],\n",
       "       [6, 2, 2, 2],\n",
       "       [2, 2, 2, 2],\n",
       "       [2, 2, 2, 2],\n",
       "       [2, 2, 2, 2],\n",
       "       [2, 2, 2, 2],\n",
       "       [6, 2, 2, 2],\n",
       "       [2, 2, 2, 2],\n",
       "       [6, 2, 2, 2],\n",
       "       [2, 2, 2, 2],\n",
       "       [6, 2, 2, 2],\n",
       "       [2, 2, 2, 2],\n",
       "       [6, 2, 2, 2],\n",
       "       [6, 2, 2, 2],\n",
       "       [6, 2, 2, 2],\n",
       "       [6, 2, 2, 2],\n",
       "       [6, 2, 2, 2],\n",
       "       [6, 2, 2, 2],\n",
       "       [6, 2, 2, 2],\n",
       "       [2, 2, 2, 2],\n",
       "       [6, 2, 2, 2],\n",
       "       [6, 2, 2, 2],\n",
       "       [2, 2, 2, 2],\n",
       "       [6, 2, 2, 2],\n",
       "       [6, 2, 2, 2],\n",
       "       [6, 2, 2, 2],\n",
       "       [6, 2, 2, 2],\n",
       "       [6, 2, 2, 2],\n",
       "       [6, 2, 2, 2],\n",
       "       [6, 2, 2, 2],\n",
       "       [6, 2, 2, 2],\n",
       "       [6, 2, 2, 2],\n",
       "       [6, 2, 2, 2],\n",
       "       [6, 2, 2, 2],\n",
       "       [6, 2, 2, 2],\n",
       "       [6, 2, 2, 2],\n",
       "       [6, 2, 2, 2],\n",
       "       [6, 2, 2, 2],\n",
       "       [6, 2, 2, 2],\n",
       "       [6, 2, 2, 2],\n",
       "       [6, 2, 2, 2],\n",
       "       [6, 2, 2, 2],\n",
       "       [6, 2, 2, 2],\n",
       "       [6, 2, 2, 2],\n",
       "       [6, 2, 2, 2],\n",
       "       [6, 2, 6, 2],\n",
       "       [6, 2, 2, 2],\n",
       "       [6, 2, 2, 2],\n",
       "       [6, 2, 2, 2],\n",
       "       [6, 2, 2, 2],\n",
       "       [6, 2, 2, 2],\n",
       "       [6, 2, 2, 2],\n",
       "       [6, 2, 2, 2],\n",
       "       [6, 2, 2, 2],\n",
       "       [6, 2, 2, 2],\n",
       "       [2, 2, 2, 2],\n",
       "       [6, 2, 2, 2],\n",
       "       [6, 2, 2, 2],\n",
       "       [6, 2, 2, 2],\n",
       "       [6, 2, 2, 2],\n",
       "       [6, 2, 2, 2],\n",
       "       [6, 2, 2, 2],\n",
       "       [6, 2, 6, 2],\n",
       "       [6, 2, 6, 2],\n",
       "       [6, 2, 6, 2],\n",
       "       [6, 2, 6, 2],\n",
       "       [6, 2, 6, 2],\n",
       "       [6, 2, 6, 2],\n",
       "       [2, 2, 2, 2],\n",
       "       [6, 2, 6, 2],\n",
       "       [6, 2, 6, 2],\n",
       "       [6, 2, 6, 2],\n",
       "       [6, 2, 6, 2],\n",
       "       [6, 2, 6, 2],\n",
       "       [6, 2, 6, 2],\n",
       "       [6, 2, 2, 2],\n",
       "       [6, 2, 6, 2],\n",
       "       [6, 2, 6, 2],\n",
       "       [6, 2, 6, 2],\n",
       "       [6, 2, 6, 2],\n",
       "       [6, 2, 6, 2],\n",
       "       [6, 2, 2, 2],\n",
       "       [6, 2, 6, 2],\n",
       "       [6, 2, 2, 2],\n",
       "       [6, 2, 6, 2],\n",
       "       [6, 2, 2, 2],\n",
       "       [6, 2, 6, 2],\n",
       "       [6, 2, 6, 2],\n",
       "       [6, 2, 2, 2],\n",
       "       [6, 2, 2, 2],\n",
       "       [6, 2, 6, 2],\n",
       "       [6, 2, 6, 2],\n",
       "       [6, 2, 6, 2],\n",
       "       [6, 2, 6, 2],\n",
       "       [6, 2, 6, 2],\n",
       "       [6, 2, 6, 2],\n",
       "       [6, 2, 6, 2],\n",
       "       [6, 2, 6, 2],\n",
       "       [6, 2, 6, 2],\n",
       "       [6, 2, 6, 2],\n",
       "       [6, 2, 2, 2],\n",
       "       [6, 2, 6, 2],\n",
       "       [6, 2, 6, 2],\n",
       "       [6, 2, 6, 2],\n",
       "       [6, 2, 6, 2],\n",
       "       [6, 2, 6, 2],\n",
       "       [6, 2, 6, 2],\n",
       "       [6, 2, 6, 2],\n",
       "       [6, 2, 2, 2],\n",
       "       [6, 2, 6, 2],\n",
       "       [6, 2, 6, 2],\n",
       "       [6, 2, 6, 2]])"
      ]
     },
     "execution_count": 194,
     "metadata": {},
     "output_type": "execute_result"
    }
   ],
   "source": [
    "np.where(data>5,6,2)"
   ]
  },
  {
   "cell_type": "code",
   "execution_count": 195,
   "metadata": {},
   "outputs": [
    {
     "data": {
      "text/plain": [
       "array([[5.1, 3.5, 1.4, 1. ],\n",
       "       [4.9, 3. , 1.4, 1. ],\n",
       "       [4.7, 3.2, 1.3, 1. ],\n",
       "       [4.6, 3.1, 1.5, 1. ],\n",
       "       [5. , 3.6, 1.4, 1. ],\n",
       "       [5.4, 3.9, 1.7, 1. ],\n",
       "       [4.6, 3.4, 1.4, 1. ],\n",
       "       [5. , 3.4, 1.5, 1. ],\n",
       "       [4.4, 2.9, 1.4, 1. ],\n",
       "       [4.9, 3.1, 1.5, 1. ],\n",
       "       [5.4, 3.7, 1.5, 1. ],\n",
       "       [4.8, 3.4, 1.6, 1. ],\n",
       "       [4.8, 3. , 1.4, 1. ],\n",
       "       [4.3, 3. , 1.1, 1. ],\n",
       "       [5.8, 4. , 1.2, 1. ],\n",
       "       [5.7, 4.4, 1.5, 1. ],\n",
       "       [5.4, 3.9, 1.3, 1. ],\n",
       "       [5.1, 3.5, 1.4, 1. ],\n",
       "       [5.7, 3.8, 1.7, 1. ],\n",
       "       [5.1, 3.8, 1.5, 1. ],\n",
       "       [5.4, 3.4, 1.7, 1. ],\n",
       "       [5.1, 3.7, 1.5, 1. ],\n",
       "       [4.6, 3.6, 1. , 1. ],\n",
       "       [5.1, 3.3, 1.7, 1. ],\n",
       "       [4.8, 3.4, 1.9, 1. ],\n",
       "       [5. , 3. , 1.6, 1. ],\n",
       "       [5. , 3.4, 1.6, 1. ],\n",
       "       [5.2, 3.5, 1.5, 1. ],\n",
       "       [5.2, 3.4, 1.4, 1. ],\n",
       "       [4.7, 3.2, 1.6, 1. ],\n",
       "       [4.8, 3.1, 1.6, 1. ],\n",
       "       [5.4, 3.4, 1.5, 1. ],\n",
       "       [5.2, 4.1, 1.5, 1. ],\n",
       "       [5.5, 4.2, 1.4, 1. ],\n",
       "       [4.9, 3.1, 1.5, 1. ],\n",
       "       [5. , 3.2, 1.2, 1. ],\n",
       "       [5.5, 3.5, 1.3, 1. ],\n",
       "       [4.9, 3.6, 1.4, 1. ],\n",
       "       [4.4, 3. , 1.3, 1. ],\n",
       "       [5.1, 3.4, 1.5, 1. ],\n",
       "       [5. , 3.5, 1.3, 1. ],\n",
       "       [4.5, 2.3, 1.3, 1. ],\n",
       "       [4.4, 3.2, 1.3, 1. ],\n",
       "       [5. , 3.5, 1.6, 1. ],\n",
       "       [5.1, 3.8, 1.9, 1. ],\n",
       "       [4.8, 3. , 1.4, 1. ],\n",
       "       [5.1, 3.8, 1.6, 1. ],\n",
       "       [4.6, 3.2, 1.4, 1. ],\n",
       "       [5.3, 3.7, 1.5, 1. ],\n",
       "       [5. , 3.3, 1.4, 1. ],\n",
       "       [7. , 3.2, 4.7, 1.4],\n",
       "       [6.4, 3.2, 4.5, 1.5],\n",
       "       [6.9, 3.1, 4.9, 1.5],\n",
       "       [5.5, 2.3, 4. , 1.3],\n",
       "       [6.5, 2.8, 4.6, 1.5],\n",
       "       [5.7, 2.8, 4.5, 1.3],\n",
       "       [6.3, 3.3, 4.7, 1.6],\n",
       "       [4.9, 2.4, 3.3, 1. ],\n",
       "       [6.6, 2.9, 4.6, 1.3],\n",
       "       [5.2, 2.7, 3.9, 1.4],\n",
       "       [5. , 2. , 3.5, 1. ],\n",
       "       [5.9, 3. , 4.2, 1.5],\n",
       "       [6. , 2.2, 4. , 1. ],\n",
       "       [6.1, 2.9, 4.7, 1.4],\n",
       "       [5.6, 2.9, 3.6, 1.3],\n",
       "       [6.7, 3.1, 4.4, 1.4],\n",
       "       [5.6, 3. , 4.5, 1.5],\n",
       "       [5.8, 2.7, 4.1, 1. ],\n",
       "       [6.2, 2.2, 4.5, 1.5],\n",
       "       [5.6, 2.5, 3.9, 1.1],\n",
       "       [5.9, 3.2, 4.8, 1.8],\n",
       "       [6.1, 2.8, 4. , 1.3],\n",
       "       [6.3, 2.5, 4.9, 1.5],\n",
       "       [6.1, 2.8, 4.7, 1.2],\n",
       "       [6.4, 2.9, 4.3, 1.3],\n",
       "       [6.6, 3. , 4.4, 1.4],\n",
       "       [6.8, 2.8, 4.8, 1.4],\n",
       "       [6.7, 3. , 5. , 1.7],\n",
       "       [6. , 2.9, 4.5, 1.5],\n",
       "       [5.7, 2.6, 3.5, 1. ],\n",
       "       [5.5, 2.4, 3.8, 1.1],\n",
       "       [5.5, 2.4, 3.7, 1. ],\n",
       "       [5.8, 2.7, 3.9, 1.2],\n",
       "       [6. , 2.7, 5.1, 1.6],\n",
       "       [5.4, 3. , 4.5, 1.5],\n",
       "       [6. , 3.4, 4.5, 1.6],\n",
       "       [6.7, 3.1, 4.7, 1.5],\n",
       "       [6.3, 2.3, 4.4, 1.3],\n",
       "       [5.6, 3. , 4.1, 1.3],\n",
       "       [5.5, 2.5, 4. , 1.3],\n",
       "       [5.5, 2.6, 4.4, 1.2],\n",
       "       [6.1, 3. , 4.6, 1.4],\n",
       "       [5.8, 2.6, 4. , 1.2],\n",
       "       [5. , 2.3, 3.3, 1. ],\n",
       "       [5.6, 2.7, 4.2, 1.3],\n",
       "       [5.7, 3. , 4.2, 1.2],\n",
       "       [5.7, 2.9, 4.2, 1.3],\n",
       "       [6.2, 2.9, 4.3, 1.3],\n",
       "       [5.1, 2.5, 3. , 1.1],\n",
       "       [5.7, 2.8, 4.1, 1.3],\n",
       "       [6.3, 3.3, 6. , 2.5],\n",
       "       [5.8, 2.7, 5.1, 1.9],\n",
       "       [7.1, 3. , 5.9, 2.1],\n",
       "       [6.3, 2.9, 5.6, 1.8],\n",
       "       [6.5, 3. , 5.8, 2.2],\n",
       "       [7.6, 3. , 6.6, 2.1],\n",
       "       [4.9, 2.5, 4.5, 1.7],\n",
       "       [7.3, 2.9, 6.3, 1.8],\n",
       "       [6.7, 2.5, 5.8, 1.8],\n",
       "       [7.2, 3.6, 6.1, 2.5],\n",
       "       [6.5, 3.2, 5.1, 2. ],\n",
       "       [6.4, 2.7, 5.3, 1.9],\n",
       "       [6.8, 3. , 5.5, 2.1],\n",
       "       [5.7, 2.5, 5. , 2. ],\n",
       "       [5.8, 2.8, 5.1, 2.4],\n",
       "       [6.4, 3.2, 5.3, 2.3],\n",
       "       [6.5, 3. , 5.5, 1.8],\n",
       "       [7.7, 3.8, 6.7, 2.2],\n",
       "       [7.7, 2.6, 6.9, 2.3],\n",
       "       [6. , 2.2, 5. , 1.5],\n",
       "       [6.9, 3.2, 5.7, 2.3],\n",
       "       [5.6, 2.8, 4.9, 2. ],\n",
       "       [7.7, 2.8, 6.7, 2. ],\n",
       "       [6.3, 2.7, 4.9, 1.8],\n",
       "       [6.7, 3.3, 5.7, 2.1],\n",
       "       [7.2, 3.2, 6. , 1.8],\n",
       "       [6.2, 2.8, 4.8, 1.8],\n",
       "       [6.1, 3. , 4.9, 1.8],\n",
       "       [6.4, 2.8, 5.6, 2.1],\n",
       "       [7.2, 3. , 5.8, 1.6],\n",
       "       [7.4, 2.8, 6.1, 1.9],\n",
       "       [7.9, 3.8, 6.4, 2. ],\n",
       "       [6.4, 2.8, 5.6, 2.2],\n",
       "       [6.3, 2.8, 5.1, 1.5],\n",
       "       [6.1, 2.6, 5.6, 1.4],\n",
       "       [7.7, 3. , 6.1, 2.3],\n",
       "       [6.3, 3.4, 5.6, 2.4],\n",
       "       [6.4, 3.1, 5.5, 1.8],\n",
       "       [6. , 3. , 4.8, 1.8],\n",
       "       [6.9, 3.1, 5.4, 2.1],\n",
       "       [6.7, 3.1, 5.6, 2.4],\n",
       "       [6.9, 3.1, 5.1, 2.3],\n",
       "       [5.8, 2.7, 5.1, 1.9],\n",
       "       [6.8, 3.2, 5.9, 2.3],\n",
       "       [6.7, 3.3, 5.7, 2.5],\n",
       "       [6.7, 3. , 5.2, 2.3],\n",
       "       [6.3, 2.5, 5. , 1.9],\n",
       "       [6.5, 3. , 5.2, 2. ],\n",
       "       [6.2, 3.4, 5.4, 2.3],\n",
       "       [5.9, 3. , 5.1, 1.8]])"
      ]
     },
     "execution_count": 195,
     "metadata": {},
     "output_type": "execute_result"
    }
   ],
   "source": [
    "np.where(data<1,1,data)"
   ]
  },
  {
   "cell_type": "markdown",
   "metadata": {},
   "source": [
    "### NumPy使用小例子"
   ]
  },
  {
   "cell_type": "markdown",
   "metadata": {},
   "source": [
    "求解MSE"
   ]
  },
  {
   "cell_type": "code",
   "execution_count": 196,
   "metadata": {},
   "outputs": [
    {
     "name": "stdout",
     "output_type": "stream",
     "text": [
      "(100,)\n",
      "100\n"
     ]
    }
   ],
   "source": [
    "ys=np.random.randn(100,2)\n",
    "ypred=ys[:,0]\n",
    "print(ypred.shape)\n",
    "y=ys[:,1]\n",
    "n=ypred.size\n",
    "print(n)"
   ]
  },
  {
   "cell_type": "code",
   "execution_count": 197,
   "metadata": {},
   "outputs": [
    {
     "data": {
      "text/plain": [
       "1.6519126880579673"
      ]
     },
     "execution_count": 197,
     "metadata": {},
     "output_type": "execute_result"
    }
   ],
   "source": [
    "mse=1/n*np.sum((ypred-y)**2,axis=0)\n",
    "#mse=1/n*np.sum((ypred-y)**2)\n",
    "mse"
   ]
  },
  {
   "cell_type": "markdown",
   "metadata": {},
   "source": [
    "计算机显示彩色图像是R、G、B三色，每一种颜色用8位表示，因此取值范围[0,255]。"
   ]
  },
  {
   "cell_type": "code",
   "execution_count": 198,
   "metadata": {},
   "outputs": [
    {
     "name": "stdout",
     "output_type": "stream",
     "text": [
      "(1, 1, 3)\n"
     ]
    },
    {
     "data": {
      "text/plain": [
       "<matplotlib.image.AxesImage at 0x157ae233f08>"
      ]
     },
     "execution_count": 198,
     "metadata": {},
     "output_type": "execute_result"
    },
    {
     "data": {
      "image/png": "[encoded data removed]",
      "text/plain": [
       "<Figure size 432x288 with 1 Axes>"
      ]
     },
     "metadata": {
      "needs_background": "light"
     },
     "output_type": "display_data"
    }
   ],
   "source": [
    "color=np.array([[[255,0,0]]])\n",
    "print(color.shape)\n",
    "plt.imshow(color)"
   ]
  },
  {
   "cell_type": "code",
   "execution_count": 199,
   "metadata": {},
   "outputs": [
    {
     "name": "stdout",
     "output_type": "stream",
     "text": [
      "[[[255   0   0]\n",
      "  [  0 255   0]\n",
      "  [  0   0 255]\n",
      "  [200 150 100]]\n",
      "\n",
      " [[  0   0   0]\n",
      "  [128 128 128]\n",
      "  [255 255 255]\n",
      "  [ 50 150 100]]]\n",
      "(2, 4, 3)\n"
     ]
    },
    {
     "data": {
      "text/plain": [
       "<matplotlib.image.AxesImage at 0x157ae1b3ac8>"
      ]
     },
     "execution_count": 199,
     "metadata": {},
     "output_type": "execute_result"
    },
    {
     "data": {
      "image/png": "[encoded data removed]",
      "text/plain": [
       "<Figure size 432x288 with 1 Axes>"
      ]
     },
     "metadata": {
      "needs_background": "light"
     },
     "output_type": "display_data"
    }
   ],
   "source": [
    "img=np.array([[[255,0,0],[0,255,0],[0,0,255],[200,150,100]],[[0,0,0],[128,128,128],[255,255,255],[50,150,100]]])\n",
    "print(img)\n",
    "print(img.shape)\n",
    "\n",
    "plt.imshow(img)"
   ]
  },
  {
   "cell_type": "markdown",
   "metadata": {},
   "source": [
    "灰度图像"
   ]
  },
  {
   "cell_type": "code",
   "execution_count": 200,
   "metadata": {},
   "outputs": [
    {
     "name": "stdout",
     "output_type": "stream",
     "text": [
      "[[ 84.15  84.15  84.15 148.5 ]\n",
      " [  0.   126.72 252.45  99.  ]]\n",
      "(2, 4)\n"
     ]
    },
    {
     "data": {
      "text/plain": [
       "<matplotlib.image.AxesImage at 0x157ae2f9708>"
      ]
     },
     "execution_count": 200,
     "metadata": {},
     "output_type": "execute_result"
    },
    {
     "data": {
      "image/png": "[encoded data removed]",
      "text/plain": [
       "<Figure size 432x288 with 1 Axes>"
      ]
     },
     "metadata": {
      "needs_background": "light"
     },
     "output_type": "display_data"
    }
   ],
   "source": [
    "weight=np.array([0.33,0.33,0.33])\n",
    "img_gray=img@weight\n",
    "print(img_gray)\n",
    "print(img_gray.shape)\n",
    "plt.imshow(img_gray,cmap='gray')"
   ]
  },
  {
   "cell_type": "markdown",
   "metadata": {},
   "source": [
    "好玩的彩色格子"
   ]
  },
  {
   "cell_type": "code",
   "execution_count": 201,
   "metadata": {},
   "outputs": [
    {
     "name": "stdout",
     "output_type": "stream",
     "text": [
      "[[[205 222 127]\n",
      "  [ 51  82 249]\n",
      "  [110 143 116]\n",
      "  ...\n",
      "  [217 140 103]\n",
      "  [189 209 216]\n",
      "  [224 110 103]]\n",
      "\n",
      " [[ 59 170 203]\n",
      "  [235  99 239]\n",
      "  [ 67 132 119]\n",
      "  ...\n",
      "  [191  87 108]\n",
      "  [162 239  69]\n",
      "  [210 157 198]]\n",
      "\n",
      " [[ 73 232 223]\n",
      "  [225  62 155]\n",
      "  [ 59  78 221]\n",
      "  ...\n",
      "  [169  71 151]\n",
      "  [207  48 153]\n",
      "  [ 90  36  67]]\n",
      "\n",
      " ...\n",
      "\n",
      " [[ 66 151  94]\n",
      "  [218 215 167]\n",
      "  [122 151 183]\n",
      "  ...\n",
      "  [138  22 188]\n",
      "  [245  68 179]\n",
      "  [230  60 223]]\n",
      "\n",
      " [[  4 230  16]\n",
      "  [ 86  33  93]\n",
      "  [218 224 143]\n",
      "  ...\n",
      "  [105  44  12]\n",
      "  [149 214  48]\n",
      "  [ 47  16 147]]\n",
      "\n",
      " [[159 231 177]\n",
      "  [104 125 189]\n",
      "  [142 169  10]\n",
      "  ...\n",
      "  [153 129 221]\n",
      "  [166  98   4]\n",
      "  [211  59 208]]]\n"
     ]
    }
   ],
   "source": [
    "img1=np.random.randint(0,256,(256,256,3))\n",
    "print(img1)"
   ]
  },
  {
   "cell_type": "code",
   "execution_count": 202,
   "metadata": {},
   "outputs": [
    {
     "data": {
      "text/plain": [
       "<matplotlib.image.AxesImage at 0x157ae363988>"
      ]
     },
     "execution_count": 202,
     "metadata": {},
     "output_type": "execute_result"
    },
    {
     "data": {
      "image/png": "[encoded data removed]",
      "text/plain": [
       "<Figure size 432x288 with 1 Axes>"
      ]
     },
     "metadata": {
      "needs_background": "light"
     },
     "output_type": "display_data"
    }
   ],
   "source": [
    "plt.imshow(img1)"
   ]
  },
  {
   "cell_type": "code",
   "execution_count": 203,
   "metadata": {},
   "outputs": [
    {
     "data": {
      "text/plain": [
       "<matplotlib.image.AxesImage at 0x157ae3da8c8>"
      ]
     },
     "execution_count": 203,
     "metadata": {},
     "output_type": "execute_result"
    },
    {
     "data": {
      "image/png": "[encoded data removed]",
      "text/plain": [
       "<Figure size 432x288 with 1 Axes>"
      ]
     },
     "metadata": {
      "needs_background": "light"
     },
     "output_type": "display_data"
    }
   ],
   "source": [
    "img2=np.random.randint(0,256,(16,16,3))\n",
    "plt.imshow(img2)"
   ]
  },
  {
   "cell_type": "code",
   "execution_count": 204,
   "metadata": {},
   "outputs": [
    {
     "name": "stderr",
     "output_type": "stream",
     "text": [
      "Clipping input data to the valid range for imshow with RGB data ([0..1] for floats or [0..255] for integers).\n"
     ]
    },
    {
     "data": {
      "text/plain": [
       "<matplotlib.image.AxesImage at 0x157af448bc8>"
      ]
     },
     "execution_count": 204,
     "metadata": {},
     "output_type": "execute_result"
    },
    {
     "data": {
      "image/png": "[encoded data removed]",
      "text/plain": [
       "<Figure size 432x288 with 1 Axes>"
      ]
     },
     "metadata": {
      "needs_background": "light"
     },
     "output_type": "display_data"
    }
   ],
   "source": [
    "data=np.arange(16*16*3).reshape(16,16,3)\n",
    "img3=np.sin(data*np.pi/16)\n",
    "plt.imshow(img3)"
   ]
  },
  {
   "cell_type": "code",
   "execution_count": 205,
   "metadata": {},
   "outputs": [
    {
     "name": "stdout",
     "output_type": "stream",
     "text": [
      "[[[ 0.00000000e+00  1.95090322e-01  3.82683432e-01]\n",
      "  [ 5.55570233e-01  7.07106781e-01  8.31469612e-01]\n",
      "  [ 9.23879533e-01  9.80785280e-01  1.00000000e+00]\n",
      "  [ 9.80785280e-01  9.23879533e-01  8.31469612e-01]\n",
      "  [ 7.07106781e-01  5.55570233e-01  3.82683432e-01]\n",
      "  [ 1.95090322e-01  1.22464680e-16 -1.95090322e-01]\n",
      "  [-3.82683432e-01 -5.55570233e-01 -7.07106781e-01]\n",
      "  [-8.31469612e-01 -9.23879533e-01 -9.80785280e-01]\n",
      "  [-1.00000000e+00 -9.80785280e-01 -9.23879533e-01]\n",
      "  [-8.31469612e-01 -7.07106781e-01 -5.55570233e-01]\n",
      "  [-3.82683432e-01 -1.95090322e-01 -2.44929360e-16]\n",
      "  [ 1.95090322e-01  3.82683432e-01  5.55570233e-01]\n",
      "  [ 7.07106781e-01  8.31469612e-01  9.23879533e-01]\n",
      "  [ 9.80785280e-01  1.00000000e+00  9.80785280e-01]\n",
      "  [ 9.23879533e-01  8.31469612e-01  7.07106781e-01]\n",
      "  [ 5.55570233e-01  3.82683432e-01  1.95090322e-01]]\n",
      "\n",
      " [[ 3.67394040e-16 -1.95090322e-01 -3.82683432e-01]\n",
      "  [-5.55570233e-01 -7.07106781e-01 -8.31469612e-01]\n",
      "  [-9.23879533e-01 -9.80785280e-01 -1.00000000e+00]\n",
      "  [-9.80785280e-01 -9.23879533e-01 -8.31469612e-01]\n",
      "  [-7.07106781e-01 -5.55570233e-01 -3.82683432e-01]\n",
      "  [-1.95090322e-01 -4.89858720e-16  1.95090322e-01]\n",
      "  [ 3.82683432e-01  5.55570233e-01  7.07106781e-01]\n",
      "  [ 8.31469612e-01  9.23879533e-01  9.80785280e-01]\n",
      "  [ 1.00000000e+00  9.80785280e-01  9.23879533e-01]\n",
      "  [ 8.31469612e-01  7.07106781e-01  5.55570233e-01]\n",
      "  [ 3.82683432e-01  1.95090322e-01  6.12323400e-16]\n",
      "  [-1.95090322e-01 -3.82683432e-01 -5.55570233e-01]\n",
      "  [-7.07106781e-01 -8.31469612e-01 -9.23879533e-01]\n",
      "  [-9.80785280e-01 -1.00000000e+00 -9.80785280e-01]\n",
      "  [-9.23879533e-01 -8.31469612e-01 -7.07106781e-01]\n",
      "  [-5.55570233e-01 -3.82683432e-01 -1.95090322e-01]]\n",
      "\n",
      " [[-7.34788079e-16  1.95090322e-01  3.82683432e-01]\n",
      "  [ 5.55570233e-01  7.07106781e-01  8.31469612e-01]\n",
      "  [ 9.23879533e-01  9.80785280e-01  1.00000000e+00]\n",
      "  [ 9.80785280e-01  9.23879533e-01  8.31469612e-01]\n",
      "  [ 7.07106781e-01  5.55570233e-01  3.82683432e-01]\n",
      "  [ 1.95090322e-01  8.57252759e-16 -1.95090322e-01]\n",
      "  [-3.82683432e-01 -5.55570233e-01 -7.07106781e-01]\n",
      "  [-8.31469612e-01 -9.23879533e-01 -9.80785280e-01]\n",
      "  [-1.00000000e+00 -9.80785280e-01 -9.23879533e-01]\n",
      "  [-8.31469612e-01 -7.07106781e-01 -5.55570233e-01]\n",
      "  [-3.82683432e-01 -1.95090322e-01 -9.79717439e-16]\n",
      "  [ 1.95090322e-01  3.82683432e-01  5.55570233e-01]\n",
      "  [ 7.07106781e-01  8.31469612e-01  9.23879533e-01]\n",
      "  [ 9.80785280e-01  1.00000000e+00  9.80785280e-01]\n",
      "  [ 9.23879533e-01  8.31469612e-01  7.07106781e-01]\n",
      "  [ 5.55570233e-01  3.82683432e-01  1.95090322e-01]]\n",
      "\n",
      " [[ 1.10218212e-15 -1.95090322e-01 -3.82683432e-01]\n",
      "  [-5.55570233e-01 -7.07106781e-01 -8.31469612e-01]\n",
      "  [-9.23879533e-01 -9.80785280e-01 -1.00000000e+00]\n",
      "  [-9.80785280e-01 -9.23879533e-01 -8.31469612e-01]\n",
      "  [-7.07106781e-01 -5.55570233e-01 -3.82683432e-01]\n",
      "  [-1.95090322e-01 -1.22464680e-15  1.95090322e-01]\n",
      "  [ 3.82683432e-01  5.55570233e-01  7.07106781e-01]\n",
      "  [ 8.31469612e-01  9.23879533e-01  9.80785280e-01]\n",
      "  [ 1.00000000e+00  9.80785280e-01  9.23879533e-01]\n",
      "  [ 8.31469612e-01  7.07106781e-01  5.55570233e-01]\n",
      "  [ 3.82683432e-01  1.95090322e-01  4.89982516e-15]\n",
      "  [-1.95090322e-01 -3.82683432e-01 -5.55570233e-01]\n",
      "  [-7.07106781e-01 -8.31469612e-01 -9.23879533e-01]\n",
      "  [-9.80785280e-01 -1.00000000e+00 -9.80785280e-01]\n",
      "  [-9.23879533e-01 -8.31469612e-01 -7.07106781e-01]\n",
      "  [-5.55570233e-01 -3.82683432e-01 -1.95090322e-01]]\n",
      "\n",
      " [[-1.46957616e-15  1.95090322e-01  3.82683432e-01]\n",
      "  [ 5.55570233e-01  7.07106781e-01  8.31469612e-01]\n",
      "  [ 9.23879533e-01  9.80785280e-01  1.00000000e+00]\n",
      "  [ 9.80785280e-01  9.23879533e-01  8.31469612e-01]\n",
      "  [ 7.07106781e-01  5.55570233e-01  3.82683432e-01]\n",
      "  [ 1.95090322e-01 -1.96067284e-15 -1.95090322e-01]\n",
      "  [-3.82683432e-01 -5.55570233e-01 -7.07106781e-01]\n",
      "  [-8.31469612e-01 -9.23879533e-01 -9.80785280e-01]\n",
      "  [-1.00000000e+00 -9.80785280e-01 -9.23879533e-01]\n",
      "  [-8.31469612e-01 -7.07106781e-01 -5.55570233e-01]\n",
      "  [-3.82683432e-01 -1.95090322e-01 -1.71450552e-15]\n",
      "  [ 1.95090322e-01  3.82683432e-01  5.55570233e-01]\n",
      "  [ 7.07106781e-01  8.31469612e-01  9.23879533e-01]\n",
      "  [ 9.80785280e-01  1.00000000e+00  9.80785280e-01]\n",
      "  [ 9.23879533e-01  8.31469612e-01  7.07106781e-01]\n",
      "  [ 5.55570233e-01  3.82683432e-01  1.95090322e-01]]\n",
      "\n",
      " [[ 5.38968388e-15 -1.95090322e-01 -3.82683432e-01]\n",
      "  [-5.55570233e-01 -7.07106781e-01 -8.31469612e-01]\n",
      "  [-9.23879533e-01 -9.80785280e-01 -1.00000000e+00]\n",
      "  [-9.80785280e-01 -9.23879533e-01 -8.31469612e-01]\n",
      "  [-7.07106781e-01 -5.55570233e-01 -3.82683432e-01]\n",
      "  [-1.95090322e-01 -1.95943488e-15  1.95090322e-01]\n",
      "  [ 3.82683432e-01  5.55570233e-01  7.07106781e-01]\n",
      "  [ 8.31469612e-01  9.23879533e-01  9.80785280e-01]\n",
      "  [ 1.00000000e+00  9.80785280e-01  9.23879533e-01]\n",
      "  [ 8.31469612e-01  7.07106781e-01  5.55570233e-01]\n",
      "  [ 3.82683432e-01  1.95090322e-01 -1.47081412e-15]\n",
      "  [-1.95090322e-01 -3.82683432e-01 -5.55570233e-01]\n",
      "  [-7.07106781e-01 -8.31469612e-01 -9.23879533e-01]\n",
      "  [-9.80785280e-01 -1.00000000e+00 -9.80785280e-01]\n",
      "  [-9.23879533e-01 -8.31469612e-01 -7.07106781e-01]\n",
      "  [-5.55570233e-01 -3.82683432e-01 -1.95090322e-01]]\n",
      "\n",
      " [[-2.20436424e-15  1.95090322e-01  3.82683432e-01]\n",
      "  [ 5.55570233e-01  7.07106781e-01  8.31469612e-01]\n",
      "  [ 9.23879533e-01  9.80785280e-01  1.00000000e+00]\n",
      "  [ 9.80785280e-01  9.23879533e-01  8.31469612e-01]\n",
      "  [ 7.07106781e-01  5.55570233e-01  3.82683432e-01]\n",
      "  [ 1.95090322e-01  5.87954260e-15 -1.95090322e-01]\n",
      "  [-3.82683432e-01 -5.55570233e-01 -7.07106781e-01]\n",
      "  [-8.31469612e-01 -9.23879533e-01 -9.80785280e-01]\n",
      "  [-1.00000000e+00 -9.80785280e-01 -9.23879533e-01]\n",
      "  [-8.31469612e-01 -7.07106781e-01 -5.55570233e-01]\n",
      "  [-3.82683432e-01 -1.95090322e-01 -2.44929360e-15]\n",
      "  [ 1.95090322e-01  3.82683432e-01  5.55570233e-01]\n",
      "  [ 7.07106781e-01  8.31469612e-01  9.23879533e-01]\n",
      "  [ 9.80785280e-01  1.00000000e+00  9.80785280e-01]\n",
      "  [ 9.23879533e-01  8.31469612e-01  7.07106781e-01]\n",
      "  [ 5.55570233e-01  3.82683432e-01  1.95090322e-01]]\n",
      "\n",
      " [[-9.80955401e-16 -1.95090322e-01 -3.82683432e-01]\n",
      "  [-5.55570233e-01 -7.07106781e-01 -8.31469612e-01]\n",
      "  [-9.23879533e-01 -9.80785280e-01 -1.00000000e+00]\n",
      "  [-9.80785280e-01 -9.23879533e-01 -8.31469612e-01]\n",
      "  [-7.07106781e-01 -5.55570233e-01 -3.82683432e-01]\n",
      "  [-1.95090322e-01 -9.79965032e-15  1.95090322e-01]\n",
      "  [ 3.82683432e-01  5.55570233e-01  7.07106781e-01]\n",
      "  [ 8.31469612e-01  9.23879533e-01  9.80785280e-01]\n",
      "  [ 1.00000000e+00  9.80785280e-01  9.23879533e-01]\n",
      "  [ 8.31469612e-01  7.07106781e-01  5.55570233e-01]\n",
      "  [ 3.82683432e-01  1.95090322e-01  6.36940132e-15]\n",
      "  [-1.95090322e-01 -3.82683432e-01 -5.55570233e-01]\n",
      "  [-7.07106781e-01 -8.31469612e-01 -9.23879533e-01]\n",
      "  [-9.80785280e-01 -1.00000000e+00 -9.80785280e-01]\n",
      "  [-9.23879533e-01 -8.31469612e-01 -7.07106781e-01]\n",
      "  [-5.55570233e-01 -3.82683432e-01 -1.95090322e-01]]\n",
      "\n",
      " [[-2.93915232e-15  1.95090322e-01  3.82683432e-01]\n",
      "  [ 5.55570233e-01  7.07106781e-01  8.31469612e-01]\n",
      "  [ 9.23879533e-01  9.80785280e-01  1.00000000e+00]\n",
      "  [ 9.80785280e-01  9.23879533e-01  8.31469612e-01]\n",
      "  [ 7.07106781e-01  5.55570233e-01  3.82683432e-01]\n",
      "  [ 1.95090322e-01 -4.91096681e-16 -1.95090322e-01]\n",
      "  [-3.82683432e-01 -5.55570233e-01 -7.07106781e-01]\n",
      "  [-8.31469612e-01 -9.23879533e-01 -9.80785280e-01]\n",
      "  [-1.00000000e+00 -9.80785280e-01 -9.23879533e-01]\n",
      "  [-8.31469612e-01 -7.07106781e-01 -5.55570233e-01]\n",
      "  [-3.82683432e-01 -1.95090322e-01  3.92134568e-15]\n",
      "  [ 1.95090322e-01  3.82683432e-01  5.55570233e-01]\n",
      "  [ 7.07106781e-01  8.31469612e-01  9.23879533e-01]\n",
      "  [ 9.80785280e-01  1.00000000e+00  9.80785280e-01]\n",
      "  [ 9.23879533e-01  8.31469612e-01  7.07106781e-01]\n",
      "  [ 5.55570233e-01  3.82683432e-01  1.95090322e-01]]\n",
      "\n",
      " [[ 6.85926004e-15 -1.95090322e-01 -3.82683432e-01]\n",
      "  [-5.55570233e-01 -7.07106781e-01 -8.31469612e-01]\n",
      "  [-9.23879533e-01 -9.80785280e-01 -1.00000000e+00]\n",
      "  [-9.80785280e-01 -9.23879533e-01 -8.31469612e-01]\n",
      "  [-7.07106781e-01 -5.55570233e-01 -3.82683432e-01]\n",
      "  [-1.95090322e-01 -3.42901104e-15  1.95090322e-01]\n",
      "  [ 3.82683432e-01  5.55570233e-01  7.07106781e-01]\n",
      "  [ 8.31469612e-01  9.23879533e-01  9.80785280e-01]\n",
      "  [ 1.00000000e+00  9.80785280e-01  9.23879533e-01]\n",
      "  [ 8.31469612e-01  7.07106781e-01  5.55570233e-01]\n",
      "  [ 3.82683432e-01  1.95090322e-01 -1.23796127e-18]\n",
      "  [-1.95090322e-01 -3.82683432e-01 -5.55570233e-01]\n",
      "  [-7.07106781e-01 -8.31469612e-01 -9.23879533e-01]\n",
      "  [-9.80785280e-01 -1.00000000e+00 -9.80785280e-01]\n",
      "  [-9.23879533e-01 -8.31469612e-01 -7.07106781e-01]\n",
      "  [-5.55570233e-01 -3.82683432e-01 -1.95090322e-01]]\n",
      "\n",
      " [[-1.07793678e-14  1.95090322e-01  3.82683432e-01]\n",
      "  [ 5.55570233e-01  7.07106781e-01  8.31469612e-01]\n",
      "  [ 9.23879533e-01  9.80785280e-01  1.00000000e+00]\n",
      "  [ 9.80785280e-01  9.23879533e-01  8.31469612e-01]\n",
      "  [ 7.07106781e-01  5.55570233e-01  3.82683432e-01]\n",
      "  [ 1.95090322e-01  7.34911876e-15 -1.95090322e-01]\n",
      "  [-3.82683432e-01 -5.55570233e-01 -7.07106781e-01]\n",
      "  [-8.31469612e-01 -9.23879533e-01 -9.80785280e-01]\n",
      "  [-1.00000000e+00 -9.80785280e-01 -9.23879533e-01]\n",
      "  [-8.31469612e-01 -7.07106781e-01 -5.55570233e-01]\n",
      "  [-3.82683432e-01 -1.95090322e-01 -3.91886976e-15]\n",
      "  [ 1.95090322e-01  3.82683432e-01  5.55570233e-01]\n",
      "  [ 7.07106781e-01  8.31469612e-01  9.23879533e-01]\n",
      "  [ 9.80785280e-01  1.00000000e+00  9.80785280e-01]\n",
      "  [ 9.23879533e-01  8.31469612e-01  7.07106781e-01]\n",
      "  [ 5.55570233e-01  3.82683432e-01  1.95090322e-01]]\n",
      "\n",
      " [[ 4.88620758e-16 -1.95090322e-01 -3.82683432e-01]\n",
      "  [-5.55570233e-01 -7.07106781e-01 -8.31469612e-01]\n",
      "  [-9.23879533e-01 -9.80785280e-01 -1.00000000e+00]\n",
      "  [-9.80785280e-01 -9.23879533e-01 -8.31469612e-01]\n",
      "  [-7.07106781e-01 -5.55570233e-01 -3.82683432e-01]\n",
      "  [-1.95090322e-01  2.94162824e-15  1.95090322e-01]\n",
      "  [ 3.82683432e-01  5.55570233e-01  7.07106781e-01]\n",
      "  [ 8.31469612e-01  9.23879533e-01  9.80785280e-01]\n",
      "  [ 1.00000000e+00  9.80785280e-01  9.23879533e-01]\n",
      "  [ 8.31469612e-01  7.07106781e-01  5.55570233e-01]\n",
      "  [ 3.82683432e-01  1.95090322e-01  7.83897748e-15]\n",
      "  [-1.95090322e-01 -3.82683432e-01 -5.55570233e-01]\n",
      "  [-7.07106781e-01 -8.31469612e-01 -9.23879533e-01]\n",
      "  [-9.80785280e-01 -1.00000000e+00 -9.80785280e-01]\n",
      "  [-9.23879533e-01 -8.31469612e-01 -7.07106781e-01]\n",
      "  [-5.55570233e-01 -3.82683432e-01 -1.95090322e-01]]\n",
      "\n",
      " [[-4.40872848e-15  1.95090322e-01  3.82683432e-01]\n",
      "  [ 5.55570233e-01  7.07106781e-01  8.31469612e-01]\n",
      "  [ 9.23879533e-01  9.80785280e-01  1.00000000e+00]\n",
      "  [ 9.80785280e-01  9.23879533e-01  8.31469612e-01]\n",
      "  [ 7.07106781e-01  5.55570233e-01  3.82683432e-01]\n",
      "  [ 1.95090322e-01  9.78479478e-16 -1.95090322e-01]\n",
      "  [-3.82683432e-01 -5.55570233e-01 -7.07106781e-01]\n",
      "  [-8.31469612e-01 -9.23879533e-01 -9.80785280e-01]\n",
      "  [-1.00000000e+00 -9.80785280e-01 -9.23879533e-01]\n",
      "  [-8.31469612e-01 -7.07106781e-01 -5.55570233e-01]\n",
      "  [-3.82683432e-01 -1.95090322e-01 -1.17590852e-14]\n",
      "  [ 1.95090322e-01  3.82683432e-01  5.55570233e-01]\n",
      "  [ 7.07106781e-01  8.31469612e-01  9.23879533e-01]\n",
      "  [ 9.80785280e-01  1.00000000e+00  9.80785280e-01]\n",
      "  [ 9.23879533e-01  8.31469612e-01  7.07106781e-01]\n",
      "  [ 5.55570233e-01  3.82683432e-01  1.95090322e-01]]\n",
      "\n",
      " [[ 8.32883620e-15 -1.95090322e-01 -3.82683432e-01]\n",
      "  [-5.55570233e-01 -7.07106781e-01 -8.31469612e-01]\n",
      "  [-9.23879533e-01 -9.80785280e-01 -1.00000000e+00]\n",
      "  [-9.80785280e-01 -9.23879533e-01 -8.31469612e-01]\n",
      "  [-7.07106781e-01 -5.55570233e-01 -3.82683432e-01]\n",
      "  [-1.95090322e-01 -4.89858720e-15  1.95090322e-01]\n",
      "  [ 3.82683432e-01  5.55570233e-01  7.07106781e-01]\n",
      "  [ 8.31469612e-01  9.23879533e-01  9.80785280e-01]\n",
      "  [ 1.00000000e+00  9.80785280e-01  9.23879533e-01]\n",
      "  [ 8.31469612e-01  7.07106781e-01  5.55570233e-01]\n",
      "  [ 3.82683432e-01  1.95090322e-01  1.56791929e-14]\n",
      "  [-1.95090322e-01 -3.82683432e-01 -5.55570233e-01]\n",
      "  [-7.07106781e-01 -8.31469612e-01 -9.23879533e-01]\n",
      "  [-9.80785280e-01 -1.00000000e+00 -9.80785280e-01]\n",
      "  [-9.23879533e-01 -8.31469612e-01 -7.07106781e-01]\n",
      "  [-5.55570233e-01 -3.82683432e-01 -1.95090322e-01]]\n",
      "\n",
      " [[ 1.96191080e-15  1.95090322e-01  3.82683432e-01]\n",
      "  [ 5.55570233e-01  7.07106781e-01  8.31469612e-01]\n",
      "  [ 9.23879533e-01  9.80785280e-01  1.00000000e+00]\n",
      "  [ 9.80785280e-01  9.23879533e-01  8.31469612e-01]\n",
      "  [ 7.07106781e-01  5.55570233e-01  3.82683432e-01]\n",
      "  [ 1.95090322e-01  8.81869492e-15 -1.95090322e-01]\n",
      "  [-3.82683432e-01 -5.55570233e-01 -7.07106781e-01]\n",
      "  [-8.31469612e-01 -9.23879533e-01 -9.80785280e-01]\n",
      "  [-1.00000000e+00 -9.80785280e-01 -9.23879533e-01]\n",
      "  [-8.31469612e-01 -7.07106781e-01 -5.55570233e-01]\n",
      "  [-3.82683432e-01 -1.95090322e-01 -1.95993006e-14]\n",
      "  [ 1.95090322e-01  3.82683432e-01  5.55570233e-01]\n",
      "  [ 7.07106781e-01  8.31469612e-01  9.23879533e-01]\n",
      "  [ 9.80785280e-01  1.00000000e+00  9.80785280e-01]\n",
      "  [ 9.23879533e-01  8.31469612e-01  7.07106781e-01]\n",
      "  [ 5.55570233e-01  3.82683432e-01  1.95090322e-01]]\n",
      "\n",
      " [[ 1.95819692e-15 -1.95090322e-01 -3.82683432e-01]\n",
      "  [-5.55570233e-01 -7.07106781e-01 -8.31469612e-01]\n",
      "  [-9.23879533e-01 -9.80785280e-01 -1.00000000e+00]\n",
      "  [-9.80785280e-01 -9.23879533e-01 -8.31469612e-01]\n",
      "  [-7.07106781e-01 -5.55570233e-01 -3.82683432e-01]\n",
      "  [-1.95090322e-01 -1.27388026e-14  1.95090322e-01]\n",
      "  [ 3.82683432e-01  5.55570233e-01  7.07106781e-01]\n",
      "  [ 8.31469612e-01  9.23879533e-01  9.80785280e-01]\n",
      "  [ 1.00000000e+00  9.80785280e-01  9.23879533e-01]\n",
      "  [ 8.31469612e-01  7.07106781e-01  5.55570233e-01]\n",
      "  [ 3.82683432e-01  1.95090322e-01 -4.90230108e-15]\n",
      "  [-1.95090322e-01 -3.82683432e-01 -5.55570233e-01]\n",
      "  [-7.07106781e-01 -8.31469612e-01 -9.23879533e-01]\n",
      "  [-9.80785280e-01 -1.00000000e+00 -9.80785280e-01]\n",
      "  [-9.23879533e-01 -8.31469612e-01 -7.07106781e-01]\n",
      "  [-5.55570233e-01 -3.82683432e-01 -1.95090322e-01]]]\n"
     ]
    }
   ],
   "source": [
    "print(img3)"
   ]
  },
  {
   "cell_type": "code",
   "execution_count": 206,
   "metadata": {},
   "outputs": [
    {
     "data": {
      "text/plain": [
       "<matplotlib.image.AxesImage at 0x157af43ba08>"
      ]
     },
     "execution_count": 206,
     "metadata": {},
     "output_type": "execute_result"
    },
    {
     "data": {
      "image/png": "[encoded data removed]",
      "text/plain": [
       "<Figure size 432x288 with 1 Axes>"
      ]
     },
     "metadata": {
      "needs_background": "light"
     },
     "output_type": "display_data"
    }
   ],
   "source": [
    "plt.imshow(np.abs(img3))"
   ]
  },
  {
   "cell_type": "code",
   "execution_count": 207,
   "metadata": {},
   "outputs": [
    {
     "data": {
      "text/plain": [
       "<matplotlib.image.AxesImage at 0x157af56e648>"
      ]
     },
     "execution_count": 207,
     "metadata": {},
     "output_type": "execute_result"
    },
    {
     "data": {
      "image/png": "[encoded data removed]",
      "text/plain": [
       "<Figure size 432x288 with 1 Axes>"
      ]
     },
     "metadata": {
      "needs_background": "light"
     },
     "output_type": "display_data"
    }
   ],
   "source": [
    "img4=img3*255\n",
    "plt.imshow(img4.astype('uint8'))"
   ]
  },
  {
   "cell_type": "code",
   "execution_count": null,
   "metadata": {},
   "outputs": [],
   "source": []
  },
  {
   "cell_type": "code",
   "execution_count": null,
   "metadata": {},
   "outputs": [],
   "source": []
  }
 ],
 "metadata": {
  "kernelspec": {
   "display_name": "Python 3",
   "language": "python",
   "name": "python3"
  },
  "language_info": {
   "codemirror_mode": {
    "name": "ipython",
    "version": 3
   },
   "file_extension": ".py",
   "mimetype": "text/x-python",
   "name": "python",
   "nbconvert_exporter": "python",
   "pygments_lexer": "ipython3",
   "version": "3.7.4"
  }
 },
 "nbformat": 4,
 "nbformat_minor": 2
}
